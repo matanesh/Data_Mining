{
 "cells": [
  {
   "cell_type": "code",
   "execution_count": 1,
   "id": "d0d38824",
   "metadata": {},
   "outputs": [],
   "source": [
    "# conda install -c conda-forge imbalanced-learn"
   ]
  },
  {
   "cell_type": "code",
   "execution_count": 2,
   "id": "063dd305",
   "metadata": {},
   "outputs": [],
   "source": [
    "# pip install graphvizד"
   ]
  },
  {
   "cell_type": "code",
   "execution_count": 3,
   "id": "136e545d",
   "metadata": {},
   "outputs": [],
   "source": [
    "# pip install -U imbalanced-learn"
   ]
  },
  {
   "cell_type": "code",
   "execution_count": 4,
   "id": "66e7dc4d",
   "metadata": {},
   "outputs": [],
   "source": [
    "# pip install imblearn  "
   ]
  },
  {
   "cell_type": "code",
   "execution_count": 5,
   "id": "bbd3bc68",
   "metadata": {},
   "outputs": [],
   "source": [
    "# pip install pydotplus"
   ]
  },
  {
   "cell_type": "code",
   "execution_count": 6,
   "id": "3fbb9048",
   "metadata": {},
   "outputs": [],
   "source": [
    "from sklearn.tree import DecisionTreeClassifier, export_graphviz"
   ]
  },
  {
   "cell_type": "code",
   "execution_count": 7,
   "id": "fd14736e",
   "metadata": {},
   "outputs": [],
   "source": [
    "import numpy as np\n",
    "import pandas as pd\n",
    "import matplotlib.pyplot as plt\n",
    "\n",
    "import seaborn as sns\n",
    "import time\n",
    "import datetime\n",
    "\n",
    "\n",
    "# import for Decision Tree\n",
    "from sklearn.tree import DecisionTreeClassifier \n",
    "\n",
    "# import for Random forest\n",
    "from sklearn.ensemble import RandomForestClassifier\n",
    "\n",
    "# import for KNN\n",
    "from sklearn.neighbors import KNeighborsClassifier\n",
    "\n",
    "from sklearn.datasets import make_classification\n",
    "from sklearn.model_selection import cross_val_score\n",
    "from sklearn.model_selection import RepeatedStratifiedKFold\n",
    "\n",
    "from sklearn.model_selection import train_test_split \n",
    "from sklearn import metrics  \n",
    "from sklearn.metrics import confusion_matrix\n",
    "from sklearn.model_selection import KFold\n",
    "from sklearn import svm\n",
    "from sklearn.ensemble import BaggingClassifier\n",
    "from sklearn.svm import SVC\n",
    "\n",
    "from sklearn.model_selection import RandomizedSearchCV\n",
    "from sklearn.model_selection import GridSearchCV\n",
    "from scipy import stats \n",
    "\n",
    "from sklearn.tree import export_graphviz\n",
    "from IPython.display import Image  \n",
    "import pydotplus\n",
    "import os\n",
    "from pprint import pprint"
   ]
  },
  {
   "cell_type": "code",
   "execution_count": 8,
   "id": "de6a22e3",
   "metadata": {},
   "outputs": [],
   "source": [
    "from sklearn.preprocessing import MinMaxScaler\n",
    "from sklearn.preprocessing import StandardScaler\n",
    "from sklearn.decomposition import PCA as pca\n",
    "from imblearn.over_sampling import SMOTE\n",
    "# import imblearn\n",
    "from imblearn.over_sampling import ADASYN\n",
    "from imblearn.over_sampling import SMOTE \n",
    "from imblearn.under_sampling import RandomUnderSampler\n",
    "from imblearn.pipeline import Pipeline\n",
    "\n"
   ]
  },
  {
   "cell_type": "code",
   "execution_count": 9,
   "id": "7b0267a1",
   "metadata": {},
   "outputs": [],
   "source": [
    "# Class for printing with underline, colors and bold\n",
    "class bcolors:\n",
    "    HEADER = '\\033[95m'\n",
    "    OKCYAN = '\\033[96m'\n",
    "    ENDC = '\\033[0m'\n",
    "    BOLD = '\\033[1m'\n",
    "    UNDERLINE = '\\033[4m'"
   ]
  },
  {
   "cell_type": "code",
   "execution_count": 10,
   "id": "73685d4f",
   "metadata": {},
   "outputs": [],
   "source": [
    "# for inline plots in jupyter\n",
    "%matplotlib inline "
   ]
  },
  {
   "cell_type": "code",
   "execution_count": 11,
   "id": "e07645a5",
   "metadata": {},
   "outputs": [],
   "source": [
    "sns.set(color_codes=True) # settings for seaborn plotting style\n",
    "sns.set(rc={'figure.figsize':(5,5)}) # settings for seaborn plot sizes"
   ]
  },
  {
   "cell_type": "markdown",
   "id": "5a6a9efd",
   "metadata": {},
   "source": [
    "# now begin to work - use the new csv"
   ]
  },
  {
   "cell_type": "code",
   "execution_count": 12,
   "id": "c7024d74",
   "metadata": {},
   "outputs": [],
   "source": [
    "df = pd.read_csv(\"train_ready.csv\")"
   ]
  },
  {
   "cell_type": "code",
   "execution_count": 13,
   "id": "49950cb1",
   "metadata": {},
   "outputs": [],
   "source": [
    "X = df.drop('Response', axis=1)\n",
    "y = df['Response']"
   ]
  },
  {
   "cell_type": "code",
   "execution_count": 14,
   "id": "f0ac1996",
   "metadata": {},
   "outputs": [
    {
     "name": "stdout",
     "output_type": "stream",
     "text": [
      "<class 'pandas.core.frame.DataFrame'>\n"
     ]
    }
   ],
   "source": [
    "print(type(X))\n",
    "X_temp=X.copy(deep=True)"
   ]
  },
  {
   "cell_type": "code",
   "execution_count": 15,
   "id": "772546c3",
   "metadata": {},
   "outputs": [],
   "source": [
    "# X = X.to_numpy()"
   ]
  },
  {
   "cell_type": "code",
   "execution_count": 16,
   "id": "da68d082",
   "metadata": {},
   "outputs": [
    {
     "name": "stdout",
     "output_type": "stream",
     "text": [
      "<class 'pandas.core.frame.DataFrame'>\n",
      "<class 'pandas.core.frame.DataFrame'>\n"
     ]
    }
   ],
   "source": [
    "print(type(X))\n",
    "print(type(X_temp))"
   ]
  },
  {
   "cell_type": "markdown",
   "id": "333570bc",
   "metadata": {},
   "source": [
    "#### Acuuracy and confusion matrix:"
   ]
  },
  {
   "cell_type": "code",
   "execution_count": 17,
   "id": "429d321d",
   "metadata": {},
   "outputs": [],
   "source": [
    "X_train, X_test, y_train, y_test = train_test_split(X, y, test_size=0.25, random_state=42) "
   ]
  },
  {
   "cell_type": "markdown",
   "id": "3713a0be",
   "metadata": {},
   "source": [
    "# <font color = 'red'> Decision Tree </font> "
   ]
  },
  {
   "cell_type": "markdown",
   "id": "2c58b5fe",
   "metadata": {},
   "source": [
    "### Find the hyperparameters "
   ]
  },
  {
   "cell_type": "code",
   "execution_count": 18,
   "id": "bb22441c",
   "metadata": {},
   "outputs": [],
   "source": [
    "#### Randomized Search"
   ]
  },
  {
   "cell_type": "code",
   "execution_count": 19,
   "id": "cbd59eb8",
   "metadata": {
    "scrolled": true
   },
   "outputs": [
    {
     "name": "stdout",
     "output_type": "stream",
     "text": [
      "Parameters currently in use:\n",
      "\n",
      "{'ccp_alpha': 0.0,\n",
      " 'class_weight': None,\n",
      " 'criterion': 'gini',\n",
      " 'max_depth': None,\n",
      " 'max_features': None,\n",
      " 'max_leaf_nodes': None,\n",
      " 'min_impurity_decrease': 0.0,\n",
      " 'min_samples_leaf': 1,\n",
      " 'min_samples_split': 2,\n",
      " 'min_weight_fraction_leaf': 0.0,\n",
      " 'random_state': 42,\n",
      " 'splitter': 'best'}\n"
     ]
    }
   ],
   "source": [
    "dt = DecisionTreeClassifier(splitter='best',random_state=42)\n",
    "\n",
    "print('Parameters currently in use:\\n')\n",
    "pprint(dt.get_params())"
   ]
  },
  {
   "cell_type": "markdown",
   "id": "4e8d30cc",
   "metadata": {},
   "source": [
    "Parameters currently in use:\n",
    "\n",
    "{'ccp_alpha': 0.0,\n",
    " 'class_weight': None,\n",
    " 'criterion': 'gini',\n",
    " 'max_depth': None,\n",
    " 'max_features': None,\n",
    " 'max_leaf_nodes': None,\n",
    " 'min_impurity_decrease': 0.0,\n",
    " 'min_samples_leaf': 1,\n",
    " 'min_samples_split': 2,\n",
    " 'min_weight_fraction_leaf': 0.0,\n",
    " 'random_state': 42,\n",
    " 'splitter': 'best'}"
   ]
  },
  {
   "cell_type": "code",
   "execution_count": 20,
   "id": "55d51723",
   "metadata": {},
   "outputs": [],
   "source": [
    "criterion= ['gini','entropy']\n",
    "\n",
    "max_depth = [k for k in range(2,50)]\n",
    "\n",
    "min_samples_split = [2,3,4,10,50,100,150,200,250,300,350,400]\n",
    "\n",
    "min_samples_leaf = [2,3,4,10,50,100,150,200,250,300,350,400]\n",
    "\n",
    "random_grid = {\n",
    "               'criterion': criterion, \n",
    "               'max_depth': max_depth,\n",
    "               'min_samples_split': min_samples_split,\n",
    "               'min_samples_leaf': min_samples_leaf,\n",
    "               }\n"
   ]
  },
  {
   "cell_type": "markdown",
   "id": "41cfae77",
   "metadata": {},
   "source": [
    "#### Randomized Search"
   ]
  },
  {
   "cell_type": "code",
   "execution_count": 21,
   "id": "2b23183e",
   "metadata": {},
   "outputs": [],
   "source": [
    "# dt_random = RandomizedSearchCV(estimator = dt, param_distributions = random_grid, n_iter = 100,cv = 10,\n",
    "#                                verbose = 2, random_state = 42, n_jobs = -1)\n",
    "# dt_random.fit(X_train, y_train)\n",
    "# parameters = dt_random.best_params_\n"
   ]
  },
  {
   "cell_type": "code",
   "execution_count": 22,
   "id": "ecf58b14",
   "metadata": {},
   "outputs": [
    {
     "ename": "NameError",
     "evalue": "name 'dt_random' is not defined",
     "output_type": "error",
     "traceback": [
      "\u001b[1;31m---------------------------------------------------------------------------\u001b[0m",
      "\u001b[1;31mNameError\u001b[0m                                 Traceback (most recent call last)",
      "Input \u001b[1;32mIn [22]\u001b[0m, in \u001b[0;36m<cell line: 1>\u001b[1;34m()\u001b[0m\n\u001b[1;32m----> 1\u001b[0m parameters \u001b[38;5;241m=\u001b[39m \u001b[43mdt_random\u001b[49m\u001b[38;5;241m.\u001b[39mbest_params_\n\u001b[0;32m      2\u001b[0m parameters\n",
      "\u001b[1;31mNameError\u001b[0m: name 'dt_random' is not defined"
     ]
    }
   ],
   "source": [
    "parameters = dt_random.best_params_\n",
    "parameters"
   ]
  },
  {
   "cell_type": "markdown",
   "id": "8b24749c",
   "metadata": {},
   "source": [
    "{'min_samples_split': 3,\n",
    " 'min_samples_leaf': 4,\n",
    " 'max_depth': 6,\n",
    " 'criterion': 'entropy'}"
   ]
  },
  {
   "cell_type": "markdown",
   "id": "16231146",
   "metadata": {},
   "source": [
    "## CHEACK IMPROVEMVET (SANITY) for random"
   ]
  },
  {
   "cell_type": "code",
   "execution_count": null,
   "id": "12d222b1",
   "metadata": {},
   "outputs": [],
   "source": [
    "dt.fit(X_train, y_train)\n",
    "dt_y_pred = dt.predict(X_test)\n",
    "dt_accuracy = metrics.accuracy_score(y_test, dt_y_pred)\n",
    "print('base model accuracy = {:0.2f}%'.format(dt_accuracy*100))\n",
    "\n",
    "best_random = dt_random.best_estimator_\n",
    "random_y_pred = best_random.predict(X_test)\n",
    "random_accuracy = metrics.accuracy_score(y_test, random_y_pred)\n",
    "print('random model accuracy = {:0.2f}%'.format(random_accuracy*100))\n",
    "\n",
    "print('Improvement of {:0.2f}%.'.format( 100 * (random_accuracy - dt_accuracy) / dt_accuracy))"
   ]
  },
  {
   "cell_type": "code",
   "execution_count": null,
   "id": "428ecba6",
   "metadata": {},
   "outputs": [],
   "source": [
    "criterion = [parameters['criterion']]\n",
    "criterion"
   ]
  },
  {
   "cell_type": "code",
   "execution_count": null,
   "id": "a2630b2f",
   "metadata": {},
   "outputs": [],
   "source": [
    "# arrange parameters for grid from values close to the random search \n",
    "parameters"
   ]
  },
  {
   "cell_type": "code",
   "execution_count": null,
   "id": "3e478e05",
   "metadata": {},
   "outputs": [],
   "source": [
    "param_grid = {'min_samples_split': [2, 5],\n",
    "         'min_samples_leaf': [3, 6],\n",
    "         'max_depth': [4, 7],\n",
    "         'criterion': ['entropy','gini']}\n",
    "\n",
    "grid_search = GridSearchCV(estimator = dt, param_grid = param_grid, cv = 5, n_jobs = -1, verbose=2)"
   ]
  },
  {
   "cell_type": "code",
   "execution_count": null,
   "id": "0e3a0bb7",
   "metadata": {},
   "outputs": [],
   "source": [
    "# grid_search.fit(X_train, y_train)\n",
    "# parameters_dt = grid_search.best_params_\n",
    "# parameters_dt"
   ]
  },
  {
   "cell_type": "code",
   "execution_count": null,
   "id": "8d3a66dc",
   "metadata": {},
   "outputs": [],
   "source": [
    "parameters_dt = {'criterion': 'entropy',\n",
    "                'max_depth': 4,\n",
    "                 'min_samples_leaf': 6,\n",
    "                 'min_samples_split': 2}"
   ]
  },
  {
   "cell_type": "code",
   "execution_count": null,
   "id": "8d877457",
   "metadata": {},
   "outputs": [],
   "source": [
    "dt = DecisionTreeClassifier(criterion='entropy', splitter='best', \n",
    "                          max_depth=4, min_samples_split=8,\n",
    "                            min_samples_leaf=2, random_state=42)\n",
    "dt.fit(X_train, y_train)\n",
    "print(dt)"
   ]
  },
  {
   "cell_type": "markdown",
   "id": "a6d17b1e",
   "metadata": {},
   "source": [
    "## CHEACK IMPROVEMVET (SANITY) after grid"
   ]
  },
  {
   "cell_type": "code",
   "execution_count": null,
   "id": "ab8e685f",
   "metadata": {},
   "outputs": [],
   "source": [
    "best_grid = grid_search.best_estimator_\n",
    "best_grid.fit(X_train, y_train)\n",
    "grid_y_pred = best_grid.predict(X_test)\n",
    "grid_accuracy = metrics.accuracy_score(y_test, grid_y_pred)\n",
    "print('base model accuracy = {:0.2f}%'.format(dt_accuracy*100))\n",
    "print('grid model accuracy = {:0.2f}%'.format(grid_accuracy*100))\n",
    "print('random model accuracy = {:0.2f}%'.format(random_accuracy*100))\n",
    "\n",
    "print('Improvement of {:0.2f}%.'.format( 100 * (grid_accuracy - dt_accuracy) / dt_accuracy))\n",
    "\n",
    "# print('Improvement of {:0.2f}%.'.format( 100 * (grid_accuracy - random_accuracy) / random_accuracy))\n",
    "\n",
    "# print('Improvement of {:0.2f}%.'.format( 100 * (random_accuracy - grid_accuracy) / grid_accuracy))"
   ]
  },
  {
   "cell_type": "code",
   "execution_count": null,
   "id": "4b7b8979",
   "metadata": {},
   "outputs": [],
   "source": [
    "# TODO אולי לחזור לשים את הפרמרטים של הרנדום לעומת הגריד ולבדוק איך יצא פחות טוב הגריד"
   ]
  },
  {
   "cell_type": "markdown",
   "id": "bf5e1bf1",
   "metadata": {},
   "source": [
    "### Visualization\n",
    "\n",
    "#### Printing Decision Tree"
   ]
  },
  {
   "cell_type": "code",
   "execution_count": null,
   "id": "6279bbe2",
   "metadata": {},
   "outputs": [],
   "source": [
    "dot = export_graphviz(dt, filled=True, rounded=True, \n",
    "                    special_characters=True,feature_names = X.columns,class_names=['0','1'])\n",
    "graph = pydotplus.graph_from_dot_data(dot)\n",
    "graph.write_png('DT_Tree.png')\n",
    "Image(graph.create_png())"
   ]
  },
  {
   "cell_type": "markdown",
   "id": "2b37fbc8",
   "metadata": {},
   "source": [
    "#### Check Accuracy VS max_depth--??"
   ]
  },
  {
   "cell_type": "code",
   "execution_count": null,
   "id": "3176f6ec",
   "metadata": {},
   "outputs": [],
   "source": [
    "# grid_search.best_score_\n",
    "dt_random.cv_results_"
   ]
  },
  {
   "cell_type": "code",
   "execution_count": null,
   "id": "184bb20f",
   "metadata": {},
   "outputs": [],
   "source": [
    "# accuracy = round((grid_search.best_score_)*100,2)\n",
    "# print(bcolors.OKCYAN + 'accuracy after that train:'+ bcolors.ENDC + \" \", accuracy ,\"%\")\n",
    "\n",
    "# test_scores = grid_search.cv_results_['mean_test_score']\n",
    "# param_values = list(grid_search.cv_results_['param_max_depth'])\n",
    "# plt.figure(figsize=(12, 6))\n",
    "# plt.plot(param_values, test_scores, color='red', linestyle='dashed', marker='o',\n",
    "#          markerfacecolor='blue', markersize=10)\n",
    "# plt.title('Accuracy Rate VS max_depth')\n",
    "# plt.xlabel('max_depth')\n",
    "# plt.ylabel('Accuracy')"
   ]
  },
  {
   "cell_type": "markdown",
   "id": "51586899",
   "metadata": {},
   "source": [
    "# <font color = 'orange'> Random Forest </font> "
   ]
  },
  {
   "cell_type": "code",
   "execution_count": null,
   "id": "6105d1a1",
   "metadata": {},
   "outputs": [],
   "source": [
    "rf = RandomForestClassifier(random_state = 42)"
   ]
  },
  {
   "cell_type": "code",
   "execution_count": null,
   "id": "7150ae5c",
   "metadata": {},
   "outputs": [],
   "source": [
    "print('Parameters currently in use:\\n')\n",
    "pprint(rf.get_params())"
   ]
  },
  {
   "cell_type": "code",
   "execution_count": null,
   "id": "fb54e4e5",
   "metadata": {},
   "outputs": [],
   "source": [
    "n_estimators = [int(x) for x in np.linspace(start = 10, stop = 1000, num = 15)]\n",
    "\n",
    "max_features = ['auto', 'log2', 2, 5, 7]\n",
    "\n",
    "max_depth = [int(x) for x in range(2, 8)]\n",
    "max_depth.append(None)\n",
    "\n",
    "min_samples_split = [2, 5, 10, 15, 20]\n",
    "\n",
    "min_samples_leaf = [1, 3, 5, 10, 15]\n",
    "\n",
    "max_samples = [0.1, 0.3, 0.5, 0.7]\n",
    "\n",
    "random_grid = {'n_estimators': n_estimators,\n",
    "               'max_features': max_features,\n",
    "               'max_depth': max_depth,\n",
    "               'min_samples_split': min_samples_split,\n",
    "               'min_samples_leaf': min_samples_leaf,\n",
    "               'max_samples': max_samples}\n",
    "pprint(random_grid)"
   ]
  },
  {
   "cell_type": "code",
   "execution_count": null,
   "id": "2f34077c",
   "metadata": {},
   "outputs": [],
   "source": [
    "# rf_random = RandomizedSearchCV(estimator = rf, param_distributions = random_grid, n_iter = 100, cv = 10,\n",
    "#                                 verbose=2, random_state = 42, n_jobs = -1)\n",
    "\n",
    "# rf_random.fit(X_train, y_train)"
   ]
  },
  {
   "cell_type": "markdown",
   "id": "26dd9733",
   "metadata": {},
   "source": [
    "Fitting 5 folds for each of 100 candidates, totalling 500 fits\n",
    "RandomizedSearchCV(cv=5, estimator=RandomForestClassifier(random_state=42),\n",
    "                   n_iter=100, n_jobs=-1,\n",
    "                   param_distributions={'max_depth': [2, 3, 4, 5, 6, 7, None],\n",
    "                                        'max_features': ['auto', 'log2', 2, 5,\n",
    "                                                         7],\n",
    "                                        'max_samples': [0.1, 0.3, 0.5, 0.7],\n",
    "                                        'min_samples_leaf': [1, 3, 5, 10, 15],\n",
    "                                        'min_samples_split': [2, 5, 10, 15, 20],\n",
    "                                        'n_estimators': [10, 80, 151, 222, 292,\n",
    "                                                         363, 434, 504, 575,\n",
    "                                                         646, 717, 787, 858,\n",
    "                                                         929, 1000]},\n",
    "                   random_state=42, verbose=2)"
   ]
  },
  {
   "cell_type": "markdown",
   "id": "b4a2d347",
   "metadata": {},
   "source": [
    "The most important arguments in RandomizedSearchCV are:\n",
    "\n",
    "n_iter: controls the number of different combinations to try\n",
    "cv: the number of folds to use for cross validation.\n",
    "More iterations will cover a wider search space and more cv folds reduces the chances of overfitting, but raising each will increase the run time.\n",
    "Machine learning is a field of trade-offs, and performance vs time is one of the most fundamental.\n",
    "\n",
    "We can view the best hyperparameters from fitting the random search:"
   ]
  },
  {
   "cell_type": "code",
   "execution_count": null,
   "id": "805250c9",
   "metadata": {},
   "outputs": [],
   "source": [
    "rf_random.best_params_"
   ]
  },
  {
   "cell_type": "markdown",
   "id": "04646733",
   "metadata": {},
   "source": [
    " CHECK IMPROVEMT OF RANDOM SEACH"
   ]
  },
  {
   "cell_type": "code",
   "execution_count": null,
   "id": "e552c1f1",
   "metadata": {},
   "outputs": [],
   "source": [
    "rf.fit(X_train, y_train)\n",
    "rf_y_pred = rf.predict(X_test)\n",
    "rf_accuracy = metrics.accuracy_score(y_test, rf_y_pred)\n",
    "print('base model accuracy = {:0.2f}%'.format(rf_accuracy*100))\n",
    "\n",
    "best_random = rf_random.best_estimator_\n",
    "random_y_pred = best_random.predict(X_test)\n",
    "random_accuracy = metrics.accuracy_score(y_test, random_y_pred)\n",
    "print('random model accuracy = {:0.2f}%'.format(random_accuracy*100))\n",
    "\n",
    "print('Improvement of {:0.2f}%.'.format( 100 * (random_accuracy - rf_accuracy) / rf_accuracy))"
   ]
  },
  {
   "cell_type": "code",
   "execution_count": null,
   "id": "759da735",
   "metadata": {},
   "outputs": [],
   "source": [
    "param_grid = {'n_estimators': [725],\n",
    "              'min_samples_split': [13,16],\n",
    "              'min_samples_leaf': [1, 3],\n",
    "              'max_features': ['log2', 6],\n",
    "              'max_depth': [2, 4, None],\n",
    "              'max_samples': [0.3, 0.8]}\n",
    "\n",
    "grid_search = GridSearchCV(estimator = rf, param_grid = param_grid, cv = 5, n_jobs = -1, verbose=2)"
   ]
  },
  {
   "cell_type": "code",
   "execution_count": null,
   "id": "329b5457",
   "metadata": {},
   "outputs": [],
   "source": [
    "# grid_search.fit(X_train, y_train)\n",
    "# grid_search.best_params_"
   ]
  },
  {
   "cell_type": "code",
   "execution_count": null,
   "id": "d5f9e0e3",
   "metadata": {},
   "outputs": [],
   "source": [
    "grid_search.best_params_"
   ]
  },
  {
   "cell_type": "markdown",
   "id": "0639f6d6",
   "metadata": {},
   "source": [
    "{'max_depth': 4,\n",
    " 'max_features': 'log2',\n",
    " 'max_samples': 0.3,\n",
    " 'min_samples_leaf': 1,\n",
    " 'min_samples_split': 4,\n",
    " 'n_estimators': 560}"
   ]
  },
  {
   "cell_type": "code",
   "execution_count": null,
   "id": "1d53ba76",
   "metadata": {},
   "outputs": [],
   "source": [
    "\n",
    "best_grid = grid_search.best_estimator_\n",
    "best_grid.fit(X_train, y_train)\n",
    "grid_y_pred = best_grid.predict(X_test)\n",
    "grid_accuracy = metrics.accuracy_score(y_test, grid_y_pred)\n",
    "print('base model accuracy = {:0.2f}%'.format(rf_accuracy*100))\n",
    "print('grid model accuracy = {:0.2f}%'.format(grid_accuracy*100))\n",
    "print('Improvement of {:0.2f}%.'.format( 100 * (grid_accuracy - rf_accuracy) / rf_accuracy))"
   ]
  },
  {
   "cell_type": "markdown",
   "id": "06489f41",
   "metadata": {},
   "source": [
    "## Visualization"
   ]
  },
  {
   "cell_type": "markdown",
   "id": "d18d1960",
   "metadata": {},
   "source": [
    "### Training Curves\n",
    "\n",
    "We can perform grid search over only one parameter to observe the effects of changing that parameter on performance. We will look at training time, training set accuracy, and testing set accuracy."
   ]
  },
  {
   "cell_type": "code",
   "execution_count": null,
   "id": "24df1f36",
   "metadata": {},
   "outputs": [],
   "source": [
    "tree_grid = {'n_estimators': [int(x) for x in np.linspace(1, 780, 20)]}\n",
    "\n",
    "tree_grid_search = GridSearchCV(best_grid, param_grid=tree_grid, verbose = 2, n_jobs=-1, cv = 5,\n",
    "                                scoring = 'accuracy')\n"
   ]
  },
  {
   "cell_type": "markdown",
   "id": "6af0e701",
   "metadata": {},
   "source": [
    "### Visualizing One Tree in the Forest"
   ]
  },
  {
   "cell_type": "code",
   "execution_count": null,
   "id": "6d7acd96",
   "metadata": {},
   "outputs": [],
   "source": [
    "tree = best_grid.estimators_[20]"
   ]
  },
  {
   "cell_type": "code",
   "execution_count": null,
   "id": "11835693",
   "metadata": {},
   "outputs": [],
   "source": [
    "dot = export_graphviz(tree, filled=True, rounded=True, \n",
    "                special_characters=True,feature_names = X.columns,class_names=['0','1'])\n",
    "graph = pydotplus.graph_from_dot_data(dot)  \n",
    "Image(graph.create_png())"
   ]
  },
  {
   "cell_type": "markdown",
   "id": "5c848ac9",
   "metadata": {},
   "source": [
    "### ANOTHER VISUALIZE - #### Check Accuracy VS Number of trees"
   ]
  },
  {
   "cell_type": "code",
   "execution_count": null,
   "id": "f0852981",
   "metadata": {},
   "outputs": [],
   "source": [
    "# num_of_trees = {'n_estimators': [int(x) for x in np.linspace(1, 601, 60)]}\n",
    "\n",
    "# rf_check_grid_numTrees = GridSearchCV(estimator = rf, param_grid=num_of_trees, verbose = 2, n_jobs=-1, cv = 10,\n",
    "#                                 scoring = 'accuracy')\n",
    "# rf_check_grid_numTrees.fit(X_train, y_train)"
   ]
  },
  {
   "cell_type": "code",
   "execution_count": null,
   "id": "ea9dd62b",
   "metadata": {},
   "outputs": [],
   "source": [
    "test_scores = rf_check_grid_numTrees.cv_results_['mean_test_score']\n",
    "param_values = list(rf_check_grid_numTrees.cv_results_['param_n_estimators'])\n",
    "plt.subplots(1, figsize=(10, 6))\n",
    "plt.subplot(121)\n",
    "plt.plot(param_values, test_scores, 'bo-', label = 'test')\n",
    "plt.xlabel('Num trees')\n",
    "plt.ylabel('Accuracy')\n",
    "plt.title('Accuracy VS Number of Trees' )\n",
    "plt.tight_layout(pad = 2)"
   ]
  },
  {
   "cell_type": "markdown",
   "id": "80b52198",
   "metadata": {},
   "source": [
    "TODO לחזור להרית מפה הכל יש בעיות עם הX"
   ]
  },
  {
   "cell_type": "markdown",
   "id": "4c25ed90",
   "metadata": {},
   "source": [
    "# <font color = 'red'> SVM </font>"
   ]
  },
  {
   "cell_type": "markdown",
   "id": "a8abd921",
   "metadata": {},
   "source": [
    "### Find the hyperparameters;\n",
    "Hyperparameter:\n",
    "- C: Regularization, a smaller value of C creates a small-margin hyperplane and a larger value of C creates a larger-margin hyperplane.\n",
    "- Kernel: The function that used to transform the original training data into a higher dimension."
   ]
  },
  {
   "cell_type": "markdown",
   "id": "da4fdfaa",
   "metadata": {},
   "source": [
    "#### Randomized Search"
   ]
  },
  {
   "cell_type": "code",
   "execution_count": null,
   "id": "8913bdfa",
   "metadata": {},
   "outputs": [],
   "source": [
    "# svmC= svm.SVC()\n",
    "\n",
    "# print('Parameters currently in use:\\n')\n",
    "# pprint(svmC.get_params())"
   ]
  },
  {
   "cell_type": "code",
   "execution_count": null,
   "id": "dfc17392",
   "metadata": {},
   "outputs": [],
   "source": [
    "# SVM_random = svm.SVC(probability=True)\n",
    "\n",
    "# random_grid = {'base_estimator__C': [0.1, 1, 10],\n",
    "#                'base_estimator__gamma': [1, 0.1, 0.01],\n",
    "#                'base_estimator__kernel': ['rbf', 'poly', 'sigmoid'],\n",
    "#                'base_estimator__degree':[k for k in range(3,6)]\n",
    "#               }\n",
    "# n_estimators = 10\n"
   ]
  },
  {
   "cell_type": "code",
   "execution_count": null,
   "id": "6d7f0b3d",
   "metadata": {},
   "outputs": [],
   "source": [
    "# SVM_random = BaggingClassifier(base_estimator=SVC(probability=True), max_samples=1.0 / n_estimators, n_estimators=n_estimators)\n",
    "# SVM_random = RandomizedSearchCV(estimator = SVM_random, param_distributions = random_grid, n_iter = 25,cv = 5,\n",
    "#                                verbose = 2, random_state = 42, n_jobs = -1)"
   ]
  },
  {
   "cell_type": "code",
   "execution_count": null,
   "id": "f7611a9c",
   "metadata": {},
   "outputs": [],
   "source": [
    "# SVM_random.fit(X_train, y_train)\n",
    "# parameters = SVM_random.best_params_"
   ]
  },
  {
   "cell_type": "code",
   "execution_count": null,
   "id": "121be205",
   "metadata": {},
   "outputs": [],
   "source": [
    "/"
   ]
  },
  {
   "cell_type": "code",
   "execution_count": null,
   "id": "88f9d707",
   "metadata": {},
   "outputs": [],
   "source": [
    "svmC = svm.SVC(kernel='rbf', C=0.9, probability=True)"
   ]
  },
  {
   "cell_type": "code",
   "execution_count": null,
   "id": "3a2d393b",
   "metadata": {},
   "outputs": [],
   "source": [
    "# accuracy = round(svm_grid_search.best_score_*100,2)"
   ]
  },
  {
   "cell_type": "markdown",
   "id": "108cbde5",
   "metadata": {},
   "source": [
    "##  - לא הצליח - לנסות עם תרגול 8 באמצע\n"
   ]
  },
  {
   "cell_type": "code",
   "execution_count": null,
   "id": "10e80e8a",
   "metadata": {},
   "outputs": [],
   "source": [
    "print(type(X))"
   ]
  },
  {
   "cell_type": "code",
   "execution_count": null,
   "id": "d54a57f3",
   "metadata": {},
   "outputs": [],
   "source": [
    "# clf_list = [dt]\n",
    "# cm_dict, auc_dict = {}, {}\n",
    "# # X = X.to_numpy() # run only once~~\n",
    "# kf = KFold(n_splits=10, shuffle=True, random_state=42) #for cross validation\n",
    "# k = 0\n",
    "# for train_index, test_index in kf.split(X):\n",
    "#     k+=1\n",
    "#     print(\"------\",k,\"------\")\n",
    "#     # split to train and test\n",
    "#     X_train, X_test = X[train_index], X[test_index]\n",
    "#     y_train, y_test = y[train_index], y[test_index]\n",
    "#     for clf in clf_list:\n",
    "#         # train the model and make a prediction\n",
    "#         clf.fit(X_train,y_train)\n",
    "#         y_pred = clf.predict(X_test)\n",
    "#         cm = metrics.confusion_matrix(y_test, y_pred)\n",
    "#         y_probs = clf.predict_proba(X_test) # probability prediction\n",
    "#         fpr, tpr, _ = metrics.roc_curve(y_test, y_probs[:,1])\n",
    "#         auc = metrics.auc(fpr, tpr)\n",
    "#         # save the results\n",
    "#         cm_list = cm_dict.get(clf,[])\n",
    "#         cm_list.append(cm)\n",
    "#         cm_dict[clf] = cm_list\n",
    "#         auc_list = auc_dict.get(clf,[])\n",
    "#         auc_list.append(auc)\n",
    "#         auc_dict[clf] = auc_list\n",
    "#         # print the results\n",
    "# #         print(\"Classifier: \", clf)\n",
    "# #         print(\"Accuracy: \", metrics.accuracy_score(y_test, y_pred))"
   ]
  },
  {
   "cell_type": "code",
   "execution_count": null,
   "id": "f565b86a",
   "metadata": {},
   "outputs": [],
   "source": [
    "# acc_dict = {}\n",
    "# recall_dict = {}\n",
    "# for clf in clf_list:\n",
    "#     print(clf)\n",
    "#     acc = [(cm[0][0]+cm[1][1])/sum(sum(cm)) for cm in cm_dict[clf]]\n",
    "#     acc_dict[clf] = acc \n",
    "#     print(\"mean accuracy: \", np.mean(acc))\n",
    "#     recall = [(cm[1][1])/(cm[1][1]+cm[1][0]) for cm in cm_dict[clf]]\n",
    "#     recall_dict[clf] = recall\n",
    "#     print(\"mean recall: \", np.mean(recall))\n",
    "#     print(\"mean AUC: \", np.mean(auc_dict[clf]))"
   ]
  },
  {
   "cell_type": "code",
   "execution_count": null,
   "id": "7f2d894e",
   "metadata": {},
   "outputs": [],
   "source": [
    "# acc_dict = {}\n",
    "# recall_dict = {}\n",
    "# for clf in clf_list:\n",
    "#     print(clf)\n",
    "#     acc = [(cm[0][0]+cm[1][1])/sum(sum(cm)) for cm in cm_dict[clf]]\n",
    "#     acc_dict[clf] = acc \n",
    "#     print(\"mean accuracy: \", np.mean(acc))\n",
    "#     recall = [(cm[1][1])/(cm[1][1]+cm[1][0]) for cm in cm_dict[clf]]\n",
    "#     recall_dict[clf] = recall\n",
    "#     print(\"mean recall: \", np.mean(recall))\n",
    "#     print(\"mean AUC: \", np.mean(auc_dict[clf]))"
   ]
  },
  {
   "cell_type": "code",
   "execution_count": null,
   "id": "6c5fbd9a",
   "metadata": {},
   "outputs": [],
   "source": [
    "# mean_score = []\n",
    "# for k in range(1,11):\n",
    "#     model = DecisionTreeClassifier()\n",
    "#     over = SMOTE(sampling_strategy=0.1, k_neighbors=k) # TODO here\n",
    "#     under = RandomUnderSampler(sampling_strategy=0.5)\n",
    "#     steps = [('over', over), ('under', under), ('model', model)]\n",
    "#     pipeline = Pipeline(steps=steps)\n",
    "#     cv = RepeatedStratifiedKFold(n_splits=10, n_repeats=3, random_state=1)\n",
    "#     scores = cross_val_score(pipeline, X, y, scoring='roc_auc', cv=cv, n_jobs=-1)\n",
    "#     score = np.mean(scores)\n",
    "#     mean_score.append(score)\n",
    "#     print('k=%d, Mean ROC AUC: %.3f' % (k, score))"
   ]
  },
  {
   "cell_type": "code",
   "execution_count": null,
   "id": "b3bba6d2",
   "metadata": {},
   "outputs": [],
   "source": []
  },
  {
   "cell_type": "code",
   "execution_count": null,
   "id": "488ff5f2",
   "metadata": {},
   "outputs": [],
   "source": [
    "# rf_random = RandomizedSearchCV(estimator = rf, param_distributions = random_grid, n_iter = 100, cv = 5,\n",
    "#                                 verbose=2, random_state = 42, n_jobs = -1)\n",
    "\n",
    "# rf_random.fit(X_train, y_train)"
   ]
  },
  {
   "cell_type": "code",
   "execution_count": null,
   "id": "2ee78602",
   "metadata": {
    "scrolled": true
   },
   "outputs": [],
   "source": [
    "# df = pd.concat([pd.DataFrame(X),pd.DataFrame(y, columns =['Response'])], axis =1)\n",
    "# df.head()"
   ]
  },
  {
   "cell_type": "markdown",
   "id": "3fc10f07",
   "metadata": {},
   "source": [
    "## before balanced"
   ]
  },
  {
   "cell_type": "code",
   "execution_count": null,
   "id": "8c42b587",
   "metadata": {},
   "outputs": [],
   "source": [
    "# n0 = len(df[df['Response']==0])\n",
    "# n1 = len(df[df['Response']==1])\n",
    "# print(n0,n1)"
   ]
  },
  {
   "cell_type": "markdown",
   "id": "02d021e2",
   "metadata": {},
   "source": [
    "ADASYM"
   ]
  },
  {
   "cell_type": "code",
   "execution_count": null,
   "id": "e24b7dcc",
   "metadata": {},
   "outputs": [],
   "source": [
    "# oversample = ADASYN(random_state = 1)\n",
    "# adasyn_X, adasyn_y = oversample.fit_resample(X, y)\n",
    "# adasyn_data = pd.concat([pd.DataFrame(adasyn_X),pd.DataFrame(adasyn_y, columns =['Response'])], axis =1)\n",
    "# print(adasyn_data['Response'].value_counts())\n",
    "# # plot_data(adasyn_data)"
   ]
  },
  {
   "cell_type": "code",
   "execution_count": null,
   "id": "07228682",
   "metadata": {},
   "outputs": [],
   "source": [
    "# n0 = len(df[df['Response']==0])\n",
    "# n1 = len(df[df['Response']==1])\n",
    "# print(n0,n1)"
   ]
  }
 ],
 "metadata": {
  "kernelspec": {
   "display_name": "Python 3 (ipykernel)",
   "language": "python",
   "name": "python3"
  },
  "language_info": {
   "codemirror_mode": {
    "name": "ipython",
    "version": 3
   },
   "file_extension": ".py",
   "mimetype": "text/x-python",
   "name": "python",
   "nbconvert_exporter": "python",
   "pygments_lexer": "ipython3",
   "version": "3.9.12"
  }
 },
 "nbformat": 4,
 "nbformat_minor": 5
}
