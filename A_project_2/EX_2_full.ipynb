{
 "cells": [
  {
   "cell_type": "code",
   "execution_count": 1,
   "id": "61d8b78b",
   "metadata": {},
   "outputs": [],
   "source": [
    "# conda install -c conda-forge imbalanced-learn"
   ]
  },
  {
   "cell_type": "code",
   "execution_count": 2,
   "id": "063dd305",
   "metadata": {},
   "outputs": [
    {
     "name": "stdout",
     "output_type": "stream",
     "text": [
      "Requirement already satisfied: graphviz in c:\\users\\matane\\anaconda3\\lib\\site-packages (0.16)\n",
      "Note: you may need to restart the kernel to use updated packages.\n"
     ]
    }
   ],
   "source": [
    "pip install graphviz"
   ]
  },
  {
   "cell_type": "code",
   "execution_count": 3,
   "id": "cf76eb09",
   "metadata": {},
   "outputs": [
    {
     "name": "stdout",
     "output_type": "stream",
     "text": [
      "Requirement already satisfied: imbalanced-learn in c:\\users\\matane\\anaconda3\\lib\\site-packages (0.9.0)\n",
      "Requirement already satisfied: joblib>=0.11 in c:\\users\\matane\\anaconda3\\lib\\site-packages (from imbalanced-learn) (1.1.0)\n",
      "Requirement already satisfied: scipy>=1.1.0 in c:\\users\\matane\\anaconda3\\lib\\site-packages (from imbalanced-learn) (1.7.3)\n",
      "Requirement already satisfied: threadpoolctl>=2.0.0 in c:\\users\\matane\\anaconda3\\lib\\site-packages (from imbalanced-learn) (2.2.0)\n",
      "Requirement already satisfied: numpy>=1.14.6 in c:\\users\\matane\\anaconda3\\lib\\site-packages (from imbalanced-learn) (1.21.5)\n",
      "Requirement already satisfied: scikit-learn>=1.0.1 in c:\\users\\matane\\anaconda3\\lib\\site-packages (from imbalanced-learn) (1.0.2)\n",
      "Note: you may need to restart the kernel to use updated packages.\n"
     ]
    }
   ],
   "source": [
    "pip install -U imbalanced-learn"
   ]
  },
  {
   "cell_type": "code",
   "execution_count": 4,
   "id": "539513d6",
   "metadata": {},
   "outputs": [],
   "source": [
    "# pip install imblearn  "
   ]
  },
  {
   "cell_type": "code",
   "execution_count": 6,
   "id": "404be6b5",
   "metadata": {},
   "outputs": [],
   "source": [
    "from sklearn.tree import DecisionTreeClassifier, export_graphviz"
   ]
  },
  {
   "cell_type": "code",
   "execution_count": 7,
   "id": "95bd5ac2",
   "metadata": {},
   "outputs": [],
   "source": [
    "import numpy as np\n",
    "import pandas as pd\n",
    "import matplotlib.pyplot as plt\n",
    "import seaborn as sns\n",
    "import time\n",
    "import datetime\n",
    "\n",
    "from sklearn.preprocessing import MinMaxScaler\n",
    "from sklearn.preprocessing import StandardScaler\n",
    "from sklearn.decomposition import PCA as pca\n",
    "from imblearn.over_sampling import SMOTE\n",
    "import imblearn\n",
    "from imblearn.over_sampling import ADASYN"
   ]
  },
  {
   "cell_type": "code",
   "execution_count": 10,
   "id": "75d60780",
   "metadata": {},
   "outputs": [],
   "source": [
    "from sklearn import metrics \n",
    "from sklearn.model_selection import train_test_split \n",
    "from imblearn.over_sampling import SMOTE \n",
    "from imblearn.under_sampling import RandomUnderSampler\n",
    "from imblearn.pipeline import Pipeline\n",
    "from sklearn.datasets import make_classification\n",
    "from sklearn.model_selection import cross_val_score\n",
    "from sklearn.model_selection import RepeatedStratifiedKFold\n",
    "from sklearn.tree import DecisionTreeClassifier\n",
    "from imblearn.over_sampling import ADASYN"
   ]
  },
  {
   "cell_type": "code",
   "execution_count": 11,
   "id": "5dba5553",
   "metadata": {},
   "outputs": [],
   "source": [
    "\n",
    "from sklearn.tree import DecisionTreeClassifier \n",
    "from sklearn import metrics  \n",
    "from sklearn.model_selection import KFold\n",
    "from sklearn.tree import export_graphviz\n",
    "from IPython.display import Image  \n",
    "import pydotplus"
   ]
  },
  {
   "cell_type": "code",
   "execution_count": 12,
   "id": "442e454d",
   "metadata": {},
   "outputs": [
    {
     "name": "stdout",
     "output_type": "stream",
     "text": [
      "Requirement already satisfied: pydotplus in c:\\users\\matane\\anaconda3\\lib\\site-packages (2.0.2)\n",
      "Requirement already satisfied: pyparsing>=2.0.1 in c:\\users\\matane\\anaconda3\\lib\\site-packages (from pydotplus) (3.0.4)\n",
      "Note: you may need to restart the kernel to use updated packages.\n"
     ]
    }
   ],
   "source": [
    "# pip install pydotplus"
   ]
  },
  {
   "cell_type": "code",
   "execution_count": 13,
   "id": "ce623279",
   "metadata": {},
   "outputs": [
    {
     "name": "stdout",
     "output_type": "stream",
     "text": [
      "Requirement already satisfied: pydotplus in c:\\users\\matane\\anaconda3\\lib\\site-packages (2.0.2)\n",
      "Requirement already satisfied: pyparsing>=2.0.1 in c:\\users\\matane\\anaconda3\\lib\\site-packages (from pydotplus) (3.0.4)\n",
      "Note: you may need to restart the kernel to use updated packages.\n"
     ]
    }
   ],
   "source": [
    "# pip install pydotplus"
   ]
  },
  {
   "cell_type": "code",
   "execution_count": 14,
   "id": "84cc0352",
   "metadata": {},
   "outputs": [],
   "source": [
    "# for inline plots in jupyter\n",
    "%matplotlib inline "
   ]
  },
  {
   "cell_type": "code",
   "execution_count": 15,
   "id": "8ba9697b",
   "metadata": {},
   "outputs": [],
   "source": [
    "sns.set(color_codes=True) # settings for seaborn plotting style\n",
    "sns.set(rc={'figure.figsize':(5,5)}) # settings for seaborn plot sizes"
   ]
  },
  {
   "cell_type": "markdown",
   "id": "83fb1779",
   "metadata": {},
   "source": [
    "# now begin to work - use the new csv"
   ]
  },
  {
   "cell_type": "code",
   "execution_count": 16,
   "id": "cac938fd",
   "metadata": {},
   "outputs": [],
   "source": [
    "df = pd.read_csv(\"train_ready.csv\")"
   ]
  },
  {
   "cell_type": "code",
   "execution_count": 18,
   "id": "83bfe14a",
   "metadata": {},
   "outputs": [],
   "source": [
    "X = df.drop('Response', axis=1)\n",
    "y = df['Response']"
   ]
  },
  {
   "cell_type": "markdown",
   "id": "760d00f3",
   "metadata": {},
   "source": [
    "#### Acuuracy and confusion matrix:"
   ]
  },
  {
   "cell_type": "code",
   "execution_count": 20,
   "id": "af3b50ff",
   "metadata": {},
   "outputs": [],
   "source": [
    "X_train, X_test, y_train, y_test = train_test_split(X, y, test_size=0.25, random_state=42) "
   ]
  },
  {
   "cell_type": "code",
   "execution_count": 22,
   "id": "c8d88f95",
   "metadata": {},
   "outputs": [],
   "source": [
    "# Create Decision Tree classifer object\n",
    "clf = DecisionTreeClassifier(random_state=42) \n",
    "\n",
    "# Train Decision Tree Classifer \n",
    "clf = clf.fit(X_train,y_train) #80\n",
    "\n",
    "# Predict the label\n",
    "y_pred = clf.predict(X_test) #20"
   ]
  },
  {
   "cell_type": "code",
   "execution_count": 23,
   "id": "07235ac1",
   "metadata": {},
   "outputs": [
    {
     "name": "stdout",
     "output_type": "stream",
     "text": [
      "0.8214285714285714\n"
     ]
    },
    {
     "data": {
      "text/html": [
       "<div>\n",
       "<style scoped>\n",
       "    .dataframe tbody tr th:only-of-type {\n",
       "        vertical-align: middle;\n",
       "    }\n",
       "\n",
       "    .dataframe tbody tr th {\n",
       "        vertical-align: top;\n",
       "    }\n",
       "\n",
       "    .dataframe thead th {\n",
       "        text-align: right;\n",
       "    }\n",
       "</style>\n",
       "<table border=\"1\" class=\"dataframe\">\n",
       "  <thead>\n",
       "    <tr style=\"text-align: right;\">\n",
       "      <th></th>\n",
       "      <th>0</th>\n",
       "      <th>1</th>\n",
       "    </tr>\n",
       "  </thead>\n",
       "  <tbody>\n",
       "    <tr>\n",
       "      <th>0</th>\n",
       "      <td>314</td>\n",
       "      <td>36</td>\n",
       "    </tr>\n",
       "    <tr>\n",
       "      <th>1</th>\n",
       "      <td>39</td>\n",
       "      <td>31</td>\n",
       "    </tr>\n",
       "  </tbody>\n",
       "</table>\n",
       "</div>"
      ],
      "text/plain": [
       "     0   1\n",
       "0  314  36\n",
       "1   39  31"
      ]
     },
     "execution_count": 23,
     "metadata": {},
     "output_type": "execute_result"
    }
   ],
   "source": [
    "print(metrics.accuracy_score(y_test, y_pred))\n",
    "pd.DataFrame(metrics.confusion_matrix(y_test, y_pred))\n"
   ]
  },
  {
   "cell_type": "code",
   "execution_count": 32,
   "id": "4dd49849",
   "metadata": {},
   "outputs": [
    {
     "name": "stdout",
     "output_type": "stream",
     "text": [
      "{'n_estimators': [10, 80, 151, 222, 292, 363, 434, 504, 575, 646, 717, 787, 858, 929, 1000], 'max_features': ['auto', 'log2', 2, 5, 7], 'max_depth': [2, 3, 4, 5, 6, 7, None], 'min_samples_split': [2, 5, 10, 15, 20], 'min_samples_leaf': [1, 3, 5, 10, 15], 'max_samples': [0.1, 0.3, 0.5, 0.7]}\n"
     ]
    }
   ],
   "source": [
    "n_estimators = [int(x) for x in np.linspace(start = 10, stop = 1000, num = 15)]\n",
    "\n",
    "max_features = ['auto', 'log2', 2, 5, 7]\n",
    "\n",
    "max_depth = [int(x) for x in range(2, 8)]\n",
    "max_depth.append(None)\n",
    "\n",
    "min_samples_split = [2, 5, 10, 15, 20]\n",
    "\n",
    "min_samples_leaf = [1, 3, 5, 10, 15]\n",
    "\n",
    "max_samples = [0.1, 0.3, 0.5, 0.7]\n",
    "\n",
    "random_grid = {'n_estimators': n_estimators,\n",
    "               'max_features': max_features,\n",
    "               'max_depth': max_depth,\n",
    "               'min_samples_split': min_samples_split,\n",
    "               'min_samples_leaf': min_samples_leaf,\n",
    "               'max_samples': max_samples}\n",
    "print(random_grid)"
   ]
  },
  {
   "cell_type": "code",
   "execution_count": 33,
   "id": "545b2c24",
   "metadata": {},
   "outputs": [
    {
     "ename": "NameError",
     "evalue": "name 'RandomizedSearchCV' is not defined",
     "output_type": "error",
     "traceback": [
      "\u001b[1;31m---------------------------------------------------------------------------\u001b[0m",
      "\u001b[1;31mNameError\u001b[0m                                 Traceback (most recent call last)",
      "Input \u001b[1;32mIn [33]\u001b[0m, in \u001b[0;36m<cell line: 1>\u001b[1;34m()\u001b[0m\n\u001b[1;32m----> 1\u001b[0m rf_random \u001b[38;5;241m=\u001b[39m \u001b[43mRandomizedSearchCV\u001b[49m(estimator \u001b[38;5;241m=\u001b[39m rf, param_distributions \u001b[38;5;241m=\u001b[39m random_grid, n_iter \u001b[38;5;241m=\u001b[39m \u001b[38;5;241m100\u001b[39m, cv \u001b[38;5;241m=\u001b[39m \u001b[38;5;241m5\u001b[39m,\n\u001b[0;32m      2\u001b[0m                                 verbose\u001b[38;5;241m=\u001b[39m\u001b[38;5;241m2\u001b[39m, random_state \u001b[38;5;241m=\u001b[39m \u001b[38;5;241m42\u001b[39m, n_jobs \u001b[38;5;241m=\u001b[39m \u001b[38;5;241m-\u001b[39m\u001b[38;5;241m1\u001b[39m)\n\u001b[0;32m      4\u001b[0m rf_random\u001b[38;5;241m.\u001b[39mfit(X_train, y_train)\n",
      "\u001b[1;31mNameError\u001b[0m: name 'RandomizedSearchCV' is not defined"
     ]
    }
   ],
   "source": [
    "rf_random = RandomizedSearchCV(estimator = rf, param_distributions = random_grid, n_iter = 100, cv = 5,\n",
    "                                verbose=2, random_state = 42, n_jobs = -1)\n",
    "\n",
    "rf_random.fit(X_train, y_train)"
   ]
  },
  {
   "cell_type": "code",
   "execution_count": 24,
   "id": "e82a18b7",
   "metadata": {
    "scrolled": true
   },
   "outputs": [
    {
     "data": {
      "text/html": [
       "<div>\n",
       "<style scoped>\n",
       "    .dataframe tbody tr th:only-of-type {\n",
       "        vertical-align: middle;\n",
       "    }\n",
       "\n",
       "    .dataframe tbody tr th {\n",
       "        vertical-align: top;\n",
       "    }\n",
       "\n",
       "    .dataframe thead th {\n",
       "        text-align: right;\n",
       "    }\n",
       "</style>\n",
       "<table border=\"1\" class=\"dataframe\">\n",
       "  <thead>\n",
       "    <tr style=\"text-align: right;\">\n",
       "      <th></th>\n",
       "      <th>Num_of_kids</th>\n",
       "      <th>Num_of_Teen</th>\n",
       "      <th>Response_Campaign_1</th>\n",
       "      <th>Response_Campaign_2</th>\n",
       "      <th>Response_Campaign_3</th>\n",
       "      <th>Response_Campaign_4</th>\n",
       "      <th>Response_Campaign_5</th>\n",
       "      <th>Complain</th>\n",
       "      <th>Cost_Contact</th>\n",
       "      <th>Revenue</th>\n",
       "      <th>...</th>\n",
       "      <th>Num_Web_Visits_norm</th>\n",
       "      <th>Age_norm</th>\n",
       "      <th>Income_norm</th>\n",
       "      <th>Mnt_Fruits_norm</th>\n",
       "      <th>Mnt_Meat_norm</th>\n",
       "      <th>Mnt_sweet_norm</th>\n",
       "      <th>Mnt_Fish_norm</th>\n",
       "      <th>Mnt_Gold_Products_norm</th>\n",
       "      <th>Mnt_Wines_norm</th>\n",
       "      <th>Response</th>\n",
       "    </tr>\n",
       "  </thead>\n",
       "  <tbody>\n",
       "    <tr>\n",
       "      <th>0</th>\n",
       "      <td>1.0</td>\n",
       "      <td>0.0</td>\n",
       "      <td>0.0</td>\n",
       "      <td>0.0</td>\n",
       "      <td>0.0</td>\n",
       "      <td>0.0</td>\n",
       "      <td>0.0</td>\n",
       "      <td>0.0</td>\n",
       "      <td>3.0</td>\n",
       "      <td>11.0</td>\n",
       "      <td>...</td>\n",
       "      <td>0.05</td>\n",
       "      <td>0.165049</td>\n",
       "      <td>0.045204</td>\n",
       "      <td>0.000670</td>\n",
       "      <td>0.005025</td>\n",
       "      <td>1.000000</td>\n",
       "      <td>0.002762</td>\n",
       "      <td>0.003802</td>\n",
       "      <td>0.003861</td>\n",
       "      <td>0</td>\n",
       "    </tr>\n",
       "    <tr>\n",
       "      <th>1</th>\n",
       "      <td>0.0</td>\n",
       "      <td>0.0</td>\n",
       "      <td>0.0</td>\n",
       "      <td>0.0</td>\n",
       "      <td>0.0</td>\n",
       "      <td>0.0</td>\n",
       "      <td>0.0</td>\n",
       "      <td>0.0</td>\n",
       "      <td>3.0</td>\n",
       "      <td>11.0</td>\n",
       "      <td>...</td>\n",
       "      <td>1.00</td>\n",
       "      <td>0.242718</td>\n",
       "      <td>0.000000</td>\n",
       "      <td>0.000670</td>\n",
       "      <td>0.005025</td>\n",
       "      <td>0.001160</td>\n",
       "      <td>0.002762</td>\n",
       "      <td>0.003802</td>\n",
       "      <td>0.003861</td>\n",
       "      <td>0</td>\n",
       "    </tr>\n",
       "    <tr>\n",
       "      <th>2</th>\n",
       "      <td>0.0</td>\n",
       "      <td>0.0</td>\n",
       "      <td>0.0</td>\n",
       "      <td>0.0</td>\n",
       "      <td>0.0</td>\n",
       "      <td>0.0</td>\n",
       "      <td>0.0</td>\n",
       "      <td>0.0</td>\n",
       "      <td>3.0</td>\n",
       "      <td>11.0</td>\n",
       "      <td>...</td>\n",
       "      <td>0.95</td>\n",
       "      <td>0.048544</td>\n",
       "      <td>0.009472</td>\n",
       "      <td>0.048895</td>\n",
       "      <td>0.090452</td>\n",
       "      <td>0.037703</td>\n",
       "      <td>0.005525</td>\n",
       "      <td>0.045627</td>\n",
       "      <td>0.027027</td>\n",
       "      <td>0</td>\n",
       "    </tr>\n",
       "    <tr>\n",
       "      <th>3</th>\n",
       "      <td>1.0</td>\n",
       "      <td>1.0</td>\n",
       "      <td>0.0</td>\n",
       "      <td>0.0</td>\n",
       "      <td>0.0</td>\n",
       "      <td>0.0</td>\n",
       "      <td>0.0</td>\n",
       "      <td>0.0</td>\n",
       "      <td>3.0</td>\n",
       "      <td>11.0</td>\n",
       "      <td>...</td>\n",
       "      <td>0.35</td>\n",
       "      <td>0.281553</td>\n",
       "      <td>0.098625</td>\n",
       "      <td>0.344943</td>\n",
       "      <td>0.236181</td>\n",
       "      <td>0.104408</td>\n",
       "      <td>0.262431</td>\n",
       "      <td>0.361217</td>\n",
       "      <td>0.575290</td>\n",
       "      <td>0</td>\n",
       "    </tr>\n",
       "    <tr>\n",
       "      <th>4</th>\n",
       "      <td>0.0</td>\n",
       "      <td>0.0</td>\n",
       "      <td>0.0</td>\n",
       "      <td>0.0</td>\n",
       "      <td>0.0</td>\n",
       "      <td>0.0</td>\n",
       "      <td>0.0</td>\n",
       "      <td>0.0</td>\n",
       "      <td>3.0</td>\n",
       "      <td>11.0</td>\n",
       "      <td>...</td>\n",
       "      <td>0.00</td>\n",
       "      <td>0.135922</td>\n",
       "      <td>0.239231</td>\n",
       "      <td>0.036839</td>\n",
       "      <td>0.080402</td>\n",
       "      <td>0.940255</td>\n",
       "      <td>0.011050</td>\n",
       "      <td>0.011407</td>\n",
       "      <td>0.065637</td>\n",
       "      <td>0</td>\n",
       "    </tr>\n",
       "  </tbody>\n",
       "</table>\n",
       "<p>5 rows × 29 columns</p>\n",
       "</div>"
      ],
      "text/plain": [
       "   Num_of_kids  Num_of_Teen  Response_Campaign_1  Response_Campaign_2  \\\n",
       "0          1.0          0.0                  0.0                  0.0   \n",
       "1          0.0          0.0                  0.0                  0.0   \n",
       "2          0.0          0.0                  0.0                  0.0   \n",
       "3          1.0          1.0                  0.0                  0.0   \n",
       "4          0.0          0.0                  0.0                  0.0   \n",
       "\n",
       "   Response_Campaign_3  Response_Campaign_4  Response_Campaign_5  Complain  \\\n",
       "0                  0.0                  0.0                  0.0       0.0   \n",
       "1                  0.0                  0.0                  0.0       0.0   \n",
       "2                  0.0                  0.0                  0.0       0.0   \n",
       "3                  0.0                  0.0                  0.0       0.0   \n",
       "4                  0.0                  0.0                  0.0       0.0   \n",
       "\n",
       "   Cost_Contact  Revenue  ...  Num_Web_Visits_norm  Age_norm  Income_norm  \\\n",
       "0           3.0     11.0  ...                 0.05  0.165049     0.045204   \n",
       "1           3.0     11.0  ...                 1.00  0.242718     0.000000   \n",
       "2           3.0     11.0  ...                 0.95  0.048544     0.009472   \n",
       "3           3.0     11.0  ...                 0.35  0.281553     0.098625   \n",
       "4           3.0     11.0  ...                 0.00  0.135922     0.239231   \n",
       "\n",
       "   Mnt_Fruits_norm  Mnt_Meat_norm  Mnt_sweet_norm  Mnt_Fish_norm  \\\n",
       "0         0.000670       0.005025        1.000000       0.002762   \n",
       "1         0.000670       0.005025        0.001160       0.002762   \n",
       "2         0.048895       0.090452        0.037703       0.005525   \n",
       "3         0.344943       0.236181        0.104408       0.262431   \n",
       "4         0.036839       0.080402        0.940255       0.011050   \n",
       "\n",
       "   Mnt_Gold_Products_norm  Mnt_Wines_norm  Response  \n",
       "0                0.003802        0.003861         0  \n",
       "1                0.003802        0.003861         0  \n",
       "2                0.045627        0.027027         0  \n",
       "3                0.361217        0.575290         0  \n",
       "4                0.011407        0.065637         0  \n",
       "\n",
       "[5 rows x 29 columns]"
      ]
     },
     "execution_count": 24,
     "metadata": {},
     "output_type": "execute_result"
    }
   ],
   "source": [
    "# df = pd.concat([pd.DataFrame(X),pd.DataFrame(y, columns =['Response'])], axis =1)\n",
    "# df.head()"
   ]
  },
  {
   "cell_type": "markdown",
   "id": "f1bfb072",
   "metadata": {},
   "source": [
    "## before balanced"
   ]
  },
  {
   "cell_type": "code",
   "execution_count": 26,
   "id": "cc04e48b",
   "metadata": {},
   "outputs": [
    {
     "name": "stdout",
     "output_type": "stream",
     "text": [
      "1431 249\n"
     ]
    }
   ],
   "source": [
    "# n0 = len(df[df['Response']==0])\n",
    "# n1 = len(df[df['Response']==1])\n",
    "# print(n0,n1)"
   ]
  },
  {
   "cell_type": "markdown",
   "id": "533a2e7d",
   "metadata": {},
   "source": [
    "ADASYM"
   ]
  },
  {
   "cell_type": "code",
   "execution_count": 29,
   "id": "6ae7c612",
   "metadata": {},
   "outputs": [
    {
     "name": "stdout",
     "output_type": "stream",
     "text": [
      "0    1431\n",
      "1    1426\n",
      "Name: Response, dtype: int64\n"
     ]
    }
   ],
   "source": [
    "# oversample = ADASYN(random_state = 1)\n",
    "# adasyn_X, adasyn_y = oversample.fit_resample(X, y)\n",
    "# adasyn_data = pd.concat([pd.DataFrame(adasyn_X),pd.DataFrame(adasyn_y, columns =['Response'])], axis =1)\n",
    "# print(adasyn_data['Response'].value_counts())\n",
    "# # plot_data(adasyn_data)"
   ]
  },
  {
   "cell_type": "code",
   "execution_count": null,
   "id": "8f4ea72b",
   "metadata": {},
   "outputs": [],
   "source": [
    "# n0 = len(df[df['Response']==0])\n",
    "# n1 = len(df[df['Response']==1])\n",
    "# print(n0,n1)"
   ]
  }
 ],
 "metadata": {
  "kernelspec": {
   "display_name": "Python 3 (ipykernel)",
   "language": "python",
   "name": "python3"
  },
  "language_info": {
   "codemirror_mode": {
    "name": "ipython",
    "version": 3
   },
   "file_extension": ".py",
   "mimetype": "text/x-python",
   "name": "python",
   "nbconvert_exporter": "python",
   "pygments_lexer": "ipython3",
   "version": "3.9.12"
  }
 },
 "nbformat": 4,
 "nbformat_minor": 5
}
