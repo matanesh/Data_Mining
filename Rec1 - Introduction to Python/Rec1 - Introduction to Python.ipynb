{
 "cells": [
  {
   "cell_type": "markdown",
   "metadata": {},
   "source": [
    "# Introduction to Python, Numpy and Pandas"
   ]
  },
  {
   "cell_type": "markdown",
   "metadata": {},
   "source": [
    "# Python Basics\n",
    "\n",
    "Data Structures\n",
    "\n",
    " - Lists: used to store collection of heterogeneous items.\n",
    " - Tuples: immutable lists - you cannot delete, add or edit any values inside it.\n",
    " - Dictionaries: key-value pairs, key is used to identify the item and the value holds the value of the item."
   ]
  },
  {
   "cell_type": "markdown",
   "metadata": {},
   "source": [
    "### List example"
   ]
  },
  {
   "cell_type": "code",
   "execution_count": 4,
   "metadata": {},
   "outputs": [
    {
     "name": "stdout",
     "output_type": "stream",
     "text": [
      "23\n",
      "11\n",
      "['new', 2, 3, 7, 10, 23, 56, 8, 67, 44, 31]\n",
      "['new', 2, 3, 7, 10, 23, 56, 8, 67, 44, 31, 8, 37, 'hello', 4.9, [1, 2]]\n",
      "['hello', 'world', 'hello', 'world']\n"
     ]
    }
   ],
   "source": [
    "same_type_list = [1, 2, 3, 7, 10, 23, 56, 8, 67, 44, 31]\n",
    "diff_type_list = [8, 37, \"hello\", 4.9, [1,2]]\n",
    "\n",
    "print(same_type_list[5]) # index start from 0\n",
    "print(len(same_type_list)) \n",
    "\n",
    "same_type_list[0] = 'new'\n",
    "print(same_type_list)\n",
    "\n",
    "new_list = same_type_list + diff_type_list\n",
    "print(new_list)\n",
    "new_list_2 = [\"hello\", \"world\"] * 2\n",
    "print(new_list_2)"
   ]
  },
  {
   "cell_type": "markdown",
   "metadata": {},
   "source": [
    "### Slicing \n",
    "general format: sliced_list = [start_idx : end_idx+1 : step]"
   ]
  },
  {
   "cell_type": "code",
   "execution_count": 12,
   "metadata": {},
   "outputs": [
    {
     "name": "stdout",
     "output_type": "stream",
     "text": [
      "['new', 2, 3, 7, 10, 23, 56, 8, 67, 44, 31]\n",
      "23\n",
      "[23, 56, 8, 67, 44, 31]\n",
      "[7, 23, 8]\n",
      "['new', 2, 3]\n",
      "['new', 2, 3]\n",
      "['new', 2, 3]\n"
     ]
    }
   ],
   "source": [
    "print(same_type_list)\n",
    "print(same_type_list[5])\n",
    "print(same_type_list[5:])\n",
    "print(same_type_list[3:9:2])\n",
    "print(same_type_list[:3])\n",
    "\n",
    "some_list = []\n",
    "for index, item in enumerate(same_type_list):\n",
    "    if index < 3:\n",
    "        some_list.append(item)\n",
    "print(some_list)\n",
    "\n",
    "some_list2 = [item for index, item in enumerate(same_type_list) if index <3]\n",
    "print(some_list2)"
   ]
  },
  {
   "cell_type": "markdown",
   "metadata": {},
   "source": [
    "### Tuples example "
   ]
  },
  {
   "cell_type": "code",
   "execution_count": 17,
   "metadata": {},
   "outputs": [
    {
     "name": "stdout",
     "output_type": "stream",
     "text": [
      "2\n",
      "2\n",
      "(1, 2, 3, 4, 5, 'hello', 5.2, 2)\n",
      "(1, 2, 3)\n"
     ]
    }
   ],
   "source": [
    "same_type_tuple = 1, 2, 3, 4, 5\n",
    "diff_type_tuple = (\"hello\", 5.2 , 2) \n",
    "\n",
    "print(diff_type_tuple[2])\n",
    "print(same_type_tuple[1])\n",
    "\n",
    "#same_type_tuple[0] = 3 # Cannot change values inside a tuple\n",
    "\n",
    "new_tuple = same_type_tuple + diff_type_tuple\n",
    "print(new_tuple)\n",
    "print(new_tuple[:3])"
   ]
  },
  {
   "cell_type": "markdown",
   "metadata": {},
   "source": [
    "### Dictionary example"
   ]
  },
  {
   "cell_type": "code",
   "execution_count": 18,
   "metadata": {
    "scrolled": true
   },
   "outputs": [
    {
     "name": "stdout",
     "output_type": "stream",
     "text": [
      "Shani\n",
      "student does not exist\n",
      "Moran\n",
      "3\n",
      "dict_keys(['student1', 'student2', 'student3'])\n",
      "dict_values(['Shani', 'Moran', 'Hadar'])\n"
     ]
    },
    {
     "data": {
      "text/plain": [
       "{'student1': 'Shani', 'student2': 'Moran', 'student3': 'Hadar', 'student4': 1}"
      ]
     },
     "execution_count": 18,
     "metadata": {},
     "output_type": "execute_result"
    }
   ],
   "source": [
    "students_dict = {\"student1\": \"Shani\", \"student2\": \"Moran\", \"student3\": \"Hadar\"}\n",
    "\n",
    "print(students_dict[\"student1\"])\n",
    "# print(students_dict[0]) # key does not exist\n",
    "# print(students_dict[\"student4\"]) # key does not exist\n",
    "\n",
    "print(students_dict.get(\"student4\", \"student does not exist\"))\n",
    "print(students_dict.get(\"student2\", \"student does not exist\"))\n",
    "\n",
    "print(len(students_dict))\n",
    "print(students_dict.keys())\n",
    "print(students_dict.values())\n",
    "\n",
    "students_dict[\"student4\"] = 1\n",
    "students_dict"
   ]
  },
  {
   "cell_type": "code",
   "execution_count": 25,
   "metadata": {},
   "outputs": [
    {
     "name": "stdout",
     "output_type": "stream",
     "text": [
      "student1\n",
      "Shani\n",
      "student2\n",
      "Moran\n",
      "student3\n",
      "Hadar\n",
      "student4\n",
      "1\n",
      "student1\n",
      "Shani\n",
      "student2\n",
      "Moran\n",
      "student3\n",
      "Hadar\n",
      "student4\n",
      "1\n"
     ]
    }
   ],
   "source": [
    "for key, value in students_dict.items():\n",
    "    print(key)\n",
    "    print(value)\n",
    "    \n",
    "for key in students_dict.keys():\n",
    "    print(key)\n",
    "    print(students_dict[key])\n"
   ]
  },
  {
   "cell_type": "markdown",
   "metadata": {},
   "source": [
    "# Numpy"
   ]
  },
  {
   "cell_type": "markdown",
   "metadata": {},
   "source": [
    "Numpy is kind of \"Vector Programming\".<br>\n",
    "An numpy object is an N-dimensional array, mostly with 1 (vector), 2 (matrix) or 3 (cube) or even more.<br>\n",
    "It is being used as an input for a lot of ML algorithms in python packages."
   ]
  },
  {
   "cell_type": "markdown",
   "metadata": {},
   "source": [
    "### Import the library"
   ]
  },
  {
   "cell_type": "code",
   "execution_count": 26,
   "metadata": {},
   "outputs": [],
   "source": [
    "import numpy as np"
   ]
  },
  {
   "cell_type": "markdown",
   "metadata": {},
   "source": [
    "### Basic Numpy objects"
   ]
  },
  {
   "cell_type": "code",
   "execution_count": 28,
   "metadata": {},
   "outputs": [
    {
     "name": "stdout",
     "output_type": "stream",
     "text": [
      "Vector:\n",
      " [1 2 3 4 5] \n",
      "\n",
      "Matrix:\n",
      " [[ 1  2  3  4  5]\n",
      " [ 6  7  8  9 10]\n",
      " [11 12 13 14 15]\n",
      " [16 17 18 19 20]\n",
      " [21 22 23 24 25]] \n",
      "\n"
     ]
    }
   ],
   "source": [
    "vector = np.array([1,2,3,4,5]) #List\n",
    "matrix = np.array([[1,2,3,4,5], \n",
    "                   [6,7,8,9,10],\n",
    "                   [11,12,13,14,15],\n",
    "                   [16,17,18,19,20],\n",
    "                   [21,22,23,24,25]]) #List of lists\n",
    "\n",
    "print(\"Vector:\\n\", vector, \"\\n\")\n",
    "print(\"Matrix:\\n\", matrix, \"\\n\")"
   ]
  },
  {
   "cell_type": "code",
   "execution_count": 46,
   "metadata": {
    "scrolled": false
   },
   "outputs": [
    {
     "name": "stdout",
     "output_type": "stream",
     "text": [
      "matrix1:\n",
      " [[ 0  1  2  3  4  5  6  7  8  9]\n",
      " [10 11 12 13 14 15 16 17 18 19]\n",
      " [20 21 22 23 24 25 26 27 28 29]\n",
      " [30 31 32 33 34 35 36 37 38 39]\n",
      " [40 41 42 43 44 45 46 47 48 49]\n",
      " [50 51 52 53 54 55 56 57 58 59]\n",
      " [60 61 62 63 64 65 66 67 68 69]\n",
      " [70 71 72 73 74 75 76 77 78 79]\n",
      " [80 81 82 83 84 85 86 87 88 89]\n",
      " [90 91 92 93 94 95 96 97 98 99]] \n",
      "\n",
      "matrix2:\n",
      " [[0. 0. 0. 0. 0.]\n",
      " [0. 0. 0. 0. 0.]\n",
      " [0. 0. 0. 0. 0.]\n",
      " [0. 0. 0. 0. 0.]\n",
      " [0. 0. 0. 0. 0.]\n",
      " [0. 0. 0. 0. 0.]\n",
      " [0. 0. 0. 0. 0.]\n",
      " [0. 0. 0. 0. 0.]\n",
      " [0. 0. 0. 0. 0.]\n",
      " [0. 0. 0. 0. 0.]] \n",
      "\n",
      "cube1:\n",
      " [[[0.82880132 0.56154529]\n",
      "  [0.66400749 0.0989282 ]]\n",
      "\n",
      " [[0.59950996 0.56513079]\n",
      "  [0.37825268 0.08731116]]] \n",
      "\n",
      "matrix2 shape:\n",
      " (10, 5) \n",
      "\n",
      "vector2 size:\n",
      " (19,) \n",
      "\n",
      "cube2:\n",
      " [[[4. 4. 4. 4. 4.]\n",
      "  [4. 4. 4. 4. 4.]\n",
      "  [4. 4. 4. 4. 4.]\n",
      "  [4. 4. 4. 4. 4.]]\n",
      "\n",
      " [[4. 4. 4. 4. 4.]\n",
      "  [4. 4. 4. 4. 4.]\n",
      "  [4. 4. 4. 4. 4.]\n",
      "  [4. 4. 4. 4. 4.]]\n",
      "\n",
      " [[4. 4. 4. 4. 4.]\n",
      "  [4. 4. 4. 4. 4.]\n",
      "  [4. 4. 4. 4. 4.]\n",
      "  [4. 4. 4. 4. 4.]]] \n",
      "\n"
     ]
    }
   ],
   "source": [
    "vector1 = np.arange(10)                          #10 serial numbers across one dimension, start from 0\n",
    "vector2 = np.linspace(1, 10, 19)                 #starts with 1, ends with 10, there are 19 numbers inside\n",
    "#print(vector1)\n",
    "#print(vector2)\n",
    "\n",
    "matrix1 = np.arange(100).reshape(10, 10)         #10X10 (rowXcol) serial numbers across 2 dimension\n",
    "matrix2 = np.zeros((10,5))                       #10X5 (rowXcol) zeros across 2 dimension\n",
    "\n",
    "cube1= np.random.random(8).reshape(2, 2, 2)      #2X2X2 uniformed random numbers across 3 dimension\n",
    "cube2 = np.ones((3, 4, 5)) + 3                   #?\n",
    "\n",
    "print(\"matrix1:\\n\", matrix1, \"\\n\")\n",
    "print(\"matrix2:\\n\", matrix2, \"\\n\")\n",
    "print(\"cube1:\\n\", cube1, \"\\n\")\n",
    "\n",
    "print(\"matrix2 shape:\\n\", matrix2.shape, \"\\n\")\n",
    "print(\"vector2 size:\\n\", vector2.shape, \"\\n\")\n",
    "\n",
    "print(\"cube2:\\n\", cube2, \"\\n\")"
   ]
  },
  {
   "cell_type": "code",
   "execution_count": 44,
   "metadata": {},
   "outputs": [
    {
     "data": {
      "text/plain": [
       "array([[0., 0., 0., 0., 0.],\n",
       "       [0., 0., 0., 0., 0.],\n",
       "       [0., 0., 0., 0., 0.],\n",
       "       [0., 0., 0., 0., 0.],\n",
       "       [0., 0., 0., 0., 0.],\n",
       "       [0., 0., 0., 0., 0.],\n",
       "       [0., 0., 0., 0., 0.],\n",
       "       [0., 0., 0., 0., 0.],\n",
       "       [0., 0., 0., 0., 0.],\n",
       "       [0., 0., 0., 0., 0.]])"
      ]
     },
     "execution_count": 44,
     "metadata": {},
     "output_type": "execute_result"
    }
   ],
   "source": [
    "matrix2"
   ]
  },
  {
   "cell_type": "markdown",
   "metadata": {},
   "source": [
    "### Slicing\n"
   ]
  },
  {
   "cell_type": "markdown",
   "metadata": {},
   "source": [
    "Vector slicing general format: sliced = [start_idx : end_idx+1 : step]\n"
   ]
  },
  {
   "cell_type": "code",
   "execution_count": 9,
   "metadata": {
    "scrolled": true
   },
   "outputs": [
    {
     "name": "stdout",
     "output_type": "stream",
     "text": [
      "vector:\n",
      " [1 2 3 4 5] \n",
      "\n",
      "slice_vector1:\n",
      " [1 2 3 4] \n",
      "\n",
      "slice_vector2:\n",
      " [4 5] \n",
      "\n"
     ]
    }
   ],
   "source": [
    "slice_vector1 = vector[:4]\n",
    "slice_vector2 = vector[-2:]\n",
    "\n",
    "print(\"vector:\\n\", vector, \"\\n\")\n",
    "print(\"slice_vector1:\\n\", slice_vector1, \"\\n\")\n",
    "print(\"slice_vector2:\\n\", slice_vector2, \"\\n\")\n"
   ]
  },
  {
   "cell_type": "markdown",
   "metadata": {},
   "source": [
    "Matrix slicing general format: sliced = [row_start_idx : row_end_idx+1 , col_start_idx : col_end_idx+1]"
   ]
  },
  {
   "cell_type": "code",
   "execution_count": 48,
   "metadata": {},
   "outputs": [
    {
     "name": "stdout",
     "output_type": "stream",
     "text": [
      "scalar:\n",
      " 1 \n",
      "\n",
      "matrix:\n",
      " [[ 1  2  3  4  5]\n",
      " [ 6  7  8  9 10]\n",
      " [11 12 13 14 15]\n",
      " [16 17 18 19 20]\n",
      " [21 22 23 24 25]] \n",
      "\n",
      "slice_matrix1:\n",
      " [[ 8  9]\n",
      " [13 14]\n",
      " [18 19]] \n",
      "\n",
      "slice_matrix2:\n",
      " [[ 6  7  8  9 10]\n",
      " [11 12 13 14 15]\n",
      " [16 17 18 19 20]] \n",
      "\n",
      "slice_matrix3:\n",
      " [[ 5]\n",
      " [10]] \n",
      "\n",
      "slice_matrix4:\n",
      " [[ 1  2  3  4  5]\n",
      " [11 12 13 14 15]\n",
      " [21 22 23 24 25]] \n",
      "\n"
     ]
    }
   ],
   "source": [
    "scalar = matrix[0,0] \n",
    "slice_matrix1 = matrix[1:4,2:4] \n",
    "slice_matrix2 = matrix[1:4,:] \n",
    "slice_matrix3 = matrix[:2,-1:] \n",
    "slice_matrix4 = matrix[[0,2,4,], :] \n",
    "\n",
    "\n",
    "print(\"scalar:\\n\", scalar, \"\\n\")\n",
    "print(\"matrix:\\n\", matrix, \"\\n\")\n",
    "print(\"slice_matrix1:\\n\", slice_matrix1, \"\\n\")\n",
    "print(\"slice_matrix2:\\n\", slice_matrix2, \"\\n\")\n",
    "print(\"slice_matrix3:\\n\", slice_matrix3, \"\\n\")\n",
    "print(\"slice_matrix4:\\n\", slice_matrix4, \"\\n\")"
   ]
  },
  {
   "cell_type": "markdown",
   "metadata": {},
   "source": [
    "### Operations "
   ]
  },
  {
   "cell_type": "markdown",
   "metadata": {},
   "source": [
    "Performing vectorized (element-wise) operations, can be done with same dimension numpy object or with scalar."
   ]
  },
  {
   "cell_type": "code",
   "execution_count": 49,
   "metadata": {},
   "outputs": [
    {
     "name": "stdout",
     "output_type": "stream",
     "text": [
      "a:  [20 30 40 50]\n",
      "b:  [0 1 2 3]\n",
      "b+1:  [1 2 3 4]\n",
      "a-b:  [20 29 38 47]\n",
      "b^2:  [0 1 4 9]\n",
      "10*sin(a):  [ 9.12945251 -9.88031624  7.4511316  -2.62374854]\n"
     ]
    }
   ],
   "source": [
    "a = np.array([20, 30, 40, 50])\n",
    "b = np.arange(4)\n",
    "\n",
    "print(\"a: \", a)\n",
    "print(\"b: \", b)\n",
    "\n",
    "print(\"b+1: \", b+1)\n",
    "\n",
    "print(\"a-b: \", a-b)\n",
    "\n",
    "print(\"b^2: \", b**2)\n",
    "\n",
    "print(\"10*sin(a): \", 10*np.sin(a))"
   ]
  },
  {
   "cell_type": "markdown",
   "metadata": {},
   "source": [
    "#### Aggreagating functions"
   ]
  },
  {
   "cell_type": "code",
   "execution_count": 55,
   "metadata": {},
   "outputs": [
    {
     "data": {
      "text/plain": [
       "array([[1, 2, 3],\n",
       "       [4, 5, 6]])"
      ]
     },
     "execution_count": 55,
     "metadata": {},
     "output_type": "execute_result"
    }
   ],
   "source": [
    "matrix = np.array([[1,2,3],[4,5,6]])\n",
    "matrix"
   ]
  },
  {
   "cell_type": "code",
   "execution_count": 56,
   "metadata": {},
   "outputs": [
    {
     "name": "stdout",
     "output_type": "stream",
     "text": [
      "\n",
      " mean, axis=0 [2.5 3.5 4.5]\n",
      "\n",
      " sum, axis=1 [ 6 15]\n",
      "\n",
      " std, axis=1 [0.81649658 0.81649658]\n",
      "\n",
      " min, axis=0 [1 2 3]\n",
      "\n",
      " min, axis=0 [1 2 3]\n"
     ]
    }
   ],
   "source": [
    "print (\"\\n mean, axis=0\", matrix.mean(axis =0)) #calculate mean for each COLUMN\n",
    "\n",
    "print (\"\\n sum, axis=1\", matrix.sum(axis =1)) #calculate sum for each ROW \n",
    "\n",
    "print (\"\\n std, axis=1\", matrix.std(axis =1))\n",
    "\n",
    "print (\"\\n min, axis=0\", matrix.min(axis =0))\n",
    "print (\"\\n min, axis=0\", np.min(matrix,axis =0))"
   ]
  },
  {
   "cell_type": "markdown",
   "metadata": {},
   "source": [
    "#### Mask\n",
    "We can make a condition on an numpy array to create a boolean array and use this array to filter or manipulate values in an array based on some criterion. "
   ]
  },
  {
   "cell_type": "code",
   "execution_count": 57,
   "metadata": {},
   "outputs": [
    {
     "name": "stdout",
     "output_type": "stream",
     "text": [
      "[20 30 40 50]\n",
      "a>35:  [False False  True  True]\n",
      "new_a:  [40 50]\n"
     ]
    }
   ],
   "source": [
    "print(a)\n",
    "print(\"a>35: \", a>35)\n",
    "\n",
    "new_a = a[a>35]\n",
    "print(\"new_a: \", new_a)"
   ]
  },
  {
   "cell_type": "code",
   "execution_count": 15,
   "metadata": {},
   "outputs": [
    {
     "name": "stdout",
     "output_type": "stream",
     "text": [
      "[1 2 3 4 5 6 7 8]\n",
      "[ True  True  True False False False False False]\n",
      "sum of numbers less than 5:  10\n",
      "count the numbers less than 5  4\n"
     ]
    }
   ],
   "source": [
    "arr = np.array([1, 2, 3, 4, 5, 6, 7, 8])\n",
    "print(arr)\n",
    "print(arr<4)\n",
    "print(\"sum of numbers less than 5: \", arr[arr<5].sum())\n",
    "print(\"count the numbers less than 5 \", len(arr[arr<5]))"
   ]
  },
  {
   "cell_type": "markdown",
   "metadata": {},
   "source": [
    "# Pandas"
   ]
  },
  {
   "cell_type": "markdown",
   "metadata": {},
   "source": [
    "Pandas is a Python package providing fast, flexible, and expressive data structures designed to make working with “relational” or “labeled” data both easy and intuitive. It aims to be the fundamental high-level building block for doing practical, real-world data analysis in Python."
   ]
  },
  {
   "cell_type": "markdown",
   "metadata": {},
   "source": [
    "### Pandas objects:\n",
    "- Series: equivilant to 1-d numpy array\n",
    "- DataFrame: table-like object, the most important pandas object, equivalent to 2-d numpy array\n",
    "\n",
    "Each column in a DataFrame is a Series\n"
   ]
  },
  {
   "cell_type": "markdown",
   "metadata": {},
   "source": [
    "#### Import the library\n"
   ]
  },
  {
   "cell_type": "code",
   "execution_count": 59,
   "metadata": {},
   "outputs": [],
   "source": [
    "import pandas as pd"
   ]
  },
  {
   "cell_type": "markdown",
   "metadata": {},
   "source": [
    "#### Define DataFrame"
   ]
  },
  {
   "cell_type": "code",
   "execution_count": 60,
   "metadata": {},
   "outputs": [
    {
     "name": "stdout",
     "output_type": "stream",
     "text": [
      "matrix:\n",
      " [[1 2 3]\n",
      " [4 5 6]] \n",
      "\n",
      "DataFrame:\n"
     ]
    },
    {
     "data": {
      "text/html": [
       "<div>\n",
       "<style scoped>\n",
       "    .dataframe tbody tr th:only-of-type {\n",
       "        vertical-align: middle;\n",
       "    }\n",
       "\n",
       "    .dataframe tbody tr th {\n",
       "        vertical-align: top;\n",
       "    }\n",
       "\n",
       "    .dataframe thead th {\n",
       "        text-align: right;\n",
       "    }\n",
       "</style>\n",
       "<table border=\"1\" class=\"dataframe\">\n",
       "  <thead>\n",
       "    <tr style=\"text-align: right;\">\n",
       "      <th></th>\n",
       "      <th>0</th>\n",
       "      <th>1</th>\n",
       "      <th>2</th>\n",
       "    </tr>\n",
       "  </thead>\n",
       "  <tbody>\n",
       "    <tr>\n",
       "      <th>0</th>\n",
       "      <td>1</td>\n",
       "      <td>2</td>\n",
       "      <td>3</td>\n",
       "    </tr>\n",
       "    <tr>\n",
       "      <th>1</th>\n",
       "      <td>4</td>\n",
       "      <td>5</td>\n",
       "      <td>6</td>\n",
       "    </tr>\n",
       "  </tbody>\n",
       "</table>\n",
       "</div>"
      ],
      "text/plain": [
       "   0  1  2\n",
       "0  1  2  3\n",
       "1  4  5  6"
      ]
     },
     "execution_count": 60,
     "metadata": {},
     "output_type": "execute_result"
    }
   ],
   "source": [
    "df = pd.DataFrame(matrix)\n",
    "\n",
    "print(\"matrix:\\n\", matrix, \"\\n\")\n",
    "print(\"DataFrame:\")\n",
    "df"
   ]
  },
  {
   "cell_type": "markdown",
   "metadata": {},
   "source": [
    "Give names to the columns and rows"
   ]
  },
  {
   "cell_type": "code",
   "execution_count": 61,
   "metadata": {},
   "outputs": [
    {
     "data": {
      "text/html": [
       "<div>\n",
       "<style scoped>\n",
       "    .dataframe tbody tr th:only-of-type {\n",
       "        vertical-align: middle;\n",
       "    }\n",
       "\n",
       "    .dataframe tbody tr th {\n",
       "        vertical-align: top;\n",
       "    }\n",
       "\n",
       "    .dataframe thead th {\n",
       "        text-align: right;\n",
       "    }\n",
       "</style>\n",
       "<table border=\"1\" class=\"dataframe\">\n",
       "  <thead>\n",
       "    <tr style=\"text-align: right;\">\n",
       "      <th></th>\n",
       "      <th>A</th>\n",
       "      <th>B</th>\n",
       "      <th>C</th>\n",
       "      <th>D</th>\n",
       "    </tr>\n",
       "  </thead>\n",
       "  <tbody>\n",
       "    <tr>\n",
       "      <th>2</th>\n",
       "      <td>-0.137861</td>\n",
       "      <td>-0.891712</td>\n",
       "      <td>0.143232</td>\n",
       "      <td>-0.858072</td>\n",
       "    </tr>\n",
       "    <tr>\n",
       "      <th>3</th>\n",
       "      <td>-1.890487</td>\n",
       "      <td>0.830982</td>\n",
       "      <td>-0.771055</td>\n",
       "      <td>-0.036840</td>\n",
       "    </tr>\n",
       "    <tr>\n",
       "      <th>4</th>\n",
       "      <td>-1.311937</td>\n",
       "      <td>-0.389424</td>\n",
       "      <td>0.984346</td>\n",
       "      <td>-1.084197</td>\n",
       "    </tr>\n",
       "    <tr>\n",
       "      <th>5</th>\n",
       "      <td>0.101341</td>\n",
       "      <td>-0.092147</td>\n",
       "      <td>-0.272620</td>\n",
       "      <td>0.138633</td>\n",
       "    </tr>\n",
       "    <tr>\n",
       "      <th>6</th>\n",
       "      <td>-2.127633</td>\n",
       "      <td>0.853800</td>\n",
       "      <td>3.200366</td>\n",
       "      <td>0.255959</td>\n",
       "    </tr>\n",
       "    <tr>\n",
       "      <th>7</th>\n",
       "      <td>-1.051659</td>\n",
       "      <td>0.797900</td>\n",
       "      <td>1.143809</td>\n",
       "      <td>0.477599</td>\n",
       "    </tr>\n",
       "  </tbody>\n",
       "</table>\n",
       "</div>"
      ],
      "text/plain": [
       "          A         B         C         D\n",
       "2 -0.137861 -0.891712  0.143232 -0.858072\n",
       "3 -1.890487  0.830982 -0.771055 -0.036840\n",
       "4 -1.311937 -0.389424  0.984346 -1.084197\n",
       "5  0.101341 -0.092147 -0.272620  0.138633\n",
       "6 -2.127633  0.853800  3.200366  0.255959\n",
       "7 -1.051659  0.797900  1.143809  0.477599"
      ]
     },
     "execution_count": 61,
     "metadata": {},
     "output_type": "execute_result"
    }
   ],
   "source": [
    "df = pd.DataFrame(np.random.randn(6,4), columns=[\"A\",\"B\",\"C\",\"D\"], index = [2,3,4,5,6,7])\n",
    "df"
   ]
  },
  {
   "cell_type": "markdown",
   "metadata": {},
   "source": [
    "Each column can be from a different type"
   ]
  },
  {
   "cell_type": "code",
   "execution_count": 64,
   "metadata": {},
   "outputs": [
    {
     "name": "stdout",
     "output_type": "stream",
     "text": [
      "Name    object\n",
      "Age      int64\n",
      "Sex     object\n",
      "dtype: object\n"
     ]
    },
    {
     "data": {
      "text/html": [
       "<div>\n",
       "<style scoped>\n",
       "    .dataframe tbody tr th:only-of-type {\n",
       "        vertical-align: middle;\n",
       "    }\n",
       "\n",
       "    .dataframe tbody tr th {\n",
       "        vertical-align: top;\n",
       "    }\n",
       "\n",
       "    .dataframe thead th {\n",
       "        text-align: right;\n",
       "    }\n",
       "</style>\n",
       "<table border=\"1\" class=\"dataframe\">\n",
       "  <thead>\n",
       "    <tr style=\"text-align: right;\">\n",
       "      <th></th>\n",
       "      <th>Name</th>\n",
       "      <th>Age</th>\n",
       "      <th>Sex</th>\n",
       "    </tr>\n",
       "  </thead>\n",
       "  <tbody>\n",
       "    <tr>\n",
       "      <th>0</th>\n",
       "      <td>Braund, Mr. Owen Harris</td>\n",
       "      <td>58</td>\n",
       "      <td>male</td>\n",
       "    </tr>\n",
       "    <tr>\n",
       "      <th>1</th>\n",
       "      <td>Allen, Mr. William Henry</td>\n",
       "      <td>32</td>\n",
       "      <td>male</td>\n",
       "    </tr>\n",
       "    <tr>\n",
       "      <th>2</th>\n",
       "      <td>Bonnell, Miss. Elizabeth</td>\n",
       "      <td>45</td>\n",
       "      <td>female</td>\n",
       "    </tr>\n",
       "  </tbody>\n",
       "</table>\n",
       "</div>"
      ],
      "text/plain": [
       "                       Name  Age     Sex\n",
       "0   Braund, Mr. Owen Harris   58    male\n",
       "1  Allen, Mr. William Henry   32    male\n",
       "2  Bonnell, Miss. Elizabeth   45  female"
      ]
     },
     "execution_count": 64,
     "metadata": {},
     "output_type": "execute_result"
    }
   ],
   "source": [
    "df = pd.DataFrame({\"Name\": [\"Braund, Mr. Owen Harris\",\n",
    "                            \"Allen, Mr. William Henry\",\n",
    "                            \"Bonnell, Miss. Elizabeth\"],\n",
    "                    \"Age\": [58, 32, 45],\n",
    "                    \"Sex\": [\"male\", \"male\", \"female\"]})\n",
    "print(df.dtypes)\n",
    "df"
   ]
  },
  {
   "cell_type": "markdown",
   "metadata": {},
   "source": [
    "Iterate over columns:"
   ]
  },
  {
   "cell_type": "code",
   "execution_count": 65,
   "metadata": {
    "scrolled": true
   },
   "outputs": [
    {
     "data": {
      "text/plain": [
       "0     Braund, Mr. Owen Harris\n",
       "1    Allen, Mr. William Henry\n",
       "2    Bonnell, Miss. Elizabeth\n",
       "Name: Name, dtype: object"
      ]
     },
     "execution_count": 65,
     "metadata": {},
     "output_type": "execute_result"
    }
   ],
   "source": [
    "df['Name']"
   ]
  },
  {
   "cell_type": "code",
   "execution_count": 21,
   "metadata": {},
   "outputs": [
    {
     "name": "stdout",
     "output_type": "stream",
     "text": [
      "col name:  Name \n",
      "\n",
      "0     Braund, Mr. Owen Harris\n",
      "1    Allen, Mr. William Henry\n",
      "2    Bonnell, Miss. Elizabeth\n",
      "Name: Name, dtype: object \n",
      "\n",
      "col name:  Age \n",
      "\n",
      "0    58\n",
      "1    32\n",
      "2    45\n",
      "Name: Age, dtype: int64 \n",
      "\n",
      "col name:  Sex \n",
      "\n",
      "0      male\n",
      "1      male\n",
      "2    female\n",
      "Name: Sex, dtype: object \n",
      "\n"
     ]
    }
   ],
   "source": [
    "for col in df:\n",
    "    print(\"col name: \" ,col, \"\\n\")\n",
    "    print( df[col], \"\\n\")"
   ]
  },
  {
   "cell_type": "markdown",
   "metadata": {},
   "source": [
    "Iterate over rows:"
   ]
  },
  {
   "cell_type": "code",
   "execution_count": 66,
   "metadata": {},
   "outputs": [
    {
     "name": "stdout",
     "output_type": "stream",
     "text": [
      "row number:  0 \n",
      "\n",
      "row data: \n",
      " Name    Braund, Mr. Owen Harris\n",
      "Age                          58\n",
      "Sex                        male\n",
      "Name: 0, dtype: object \n",
      "\n",
      "row number:  1 \n",
      "\n",
      "row data: \n",
      " Name    Allen, Mr. William Henry\n",
      "Age                           32\n",
      "Sex                         male\n",
      "Name: 1, dtype: object \n",
      "\n",
      "row number:  2 \n",
      "\n",
      "row data: \n",
      " Name    Bonnell, Miss. Elizabeth\n",
      "Age                           45\n",
      "Sex                       female\n",
      "Name: 2, dtype: object \n",
      "\n"
     ]
    }
   ],
   "source": [
    "for row in df.index:\n",
    "    print(\"row number: \", row, \"\\n\")\n",
    "    print(\"row data: \\n\", df.loc[row], \"\\n\")"
   ]
  },
  {
   "cell_type": "markdown",
   "metadata": {},
   "source": [
    "Add new column"
   ]
  },
  {
   "cell_type": "code",
   "execution_count": 67,
   "metadata": {},
   "outputs": [
    {
     "data": {
      "text/html": [
       "<div>\n",
       "<style scoped>\n",
       "    .dataframe tbody tr th:only-of-type {\n",
       "        vertical-align: middle;\n",
       "    }\n",
       "\n",
       "    .dataframe tbody tr th {\n",
       "        vertical-align: top;\n",
       "    }\n",
       "\n",
       "    .dataframe thead th {\n",
       "        text-align: right;\n",
       "    }\n",
       "</style>\n",
       "<table border=\"1\" class=\"dataframe\">\n",
       "  <thead>\n",
       "    <tr style=\"text-align: right;\">\n",
       "      <th></th>\n",
       "      <th>Name</th>\n",
       "      <th>Age</th>\n",
       "      <th>Sex</th>\n",
       "      <th>new_col</th>\n",
       "    </tr>\n",
       "  </thead>\n",
       "  <tbody>\n",
       "    <tr>\n",
       "      <th>0</th>\n",
       "      <td>Braund, Mr. Owen Harris</td>\n",
       "      <td>58</td>\n",
       "      <td>male</td>\n",
       "      <td>5</td>\n",
       "    </tr>\n",
       "    <tr>\n",
       "      <th>1</th>\n",
       "      <td>Allen, Mr. William Henry</td>\n",
       "      <td>32</td>\n",
       "      <td>male</td>\n",
       "      <td>6</td>\n",
       "    </tr>\n",
       "    <tr>\n",
       "      <th>2</th>\n",
       "      <td>Bonnell, Miss. Elizabeth</td>\n",
       "      <td>45</td>\n",
       "      <td>female</td>\n",
       "      <td>7</td>\n",
       "    </tr>\n",
       "  </tbody>\n",
       "</table>\n",
       "</div>"
      ],
      "text/plain": [
       "                       Name  Age     Sex  new_col\n",
       "0   Braund, Mr. Owen Harris   58    male        5\n",
       "1  Allen, Mr. William Henry   32    male        6\n",
       "2  Bonnell, Miss. Elizabeth   45  female        7"
      ]
     },
     "execution_count": 67,
     "metadata": {},
     "output_type": "execute_result"
    }
   ],
   "source": [
    "df[\"new_col\"] = range(5,8)\n",
    "df"
   ]
  },
  {
   "cell_type": "code",
   "execution_count": 68,
   "metadata": {},
   "outputs": [
    {
     "data": {
      "text/html": [
       "<div>\n",
       "<style scoped>\n",
       "    .dataframe tbody tr th:only-of-type {\n",
       "        vertical-align: middle;\n",
       "    }\n",
       "\n",
       "    .dataframe tbody tr th {\n",
       "        vertical-align: top;\n",
       "    }\n",
       "\n",
       "    .dataframe thead th {\n",
       "        text-align: right;\n",
       "    }\n",
       "</style>\n",
       "<table border=\"1\" class=\"dataframe\">\n",
       "  <thead>\n",
       "    <tr style=\"text-align: right;\">\n",
       "      <th></th>\n",
       "      <th>Name</th>\n",
       "      <th>Age</th>\n",
       "      <th>Sex</th>\n",
       "      <th>new_col</th>\n",
       "      <th>new_col2</th>\n",
       "    </tr>\n",
       "  </thead>\n",
       "  <tbody>\n",
       "    <tr>\n",
       "      <th>0</th>\n",
       "      <td>Braund, Mr. Owen Harris</td>\n",
       "      <td>58</td>\n",
       "      <td>male</td>\n",
       "      <td>5</td>\n",
       "      <td>63</td>\n",
       "    </tr>\n",
       "    <tr>\n",
       "      <th>1</th>\n",
       "      <td>Allen, Mr. William Henry</td>\n",
       "      <td>32</td>\n",
       "      <td>male</td>\n",
       "      <td>6</td>\n",
       "      <td>38</td>\n",
       "    </tr>\n",
       "    <tr>\n",
       "      <th>2</th>\n",
       "      <td>Bonnell, Miss. Elizabeth</td>\n",
       "      <td>45</td>\n",
       "      <td>female</td>\n",
       "      <td>7</td>\n",
       "      <td>52</td>\n",
       "    </tr>\n",
       "  </tbody>\n",
       "</table>\n",
       "</div>"
      ],
      "text/plain": [
       "                       Name  Age     Sex  new_col  new_col2\n",
       "0   Braund, Mr. Owen Harris   58    male        5        63\n",
       "1  Allen, Mr. William Henry   32    male        6        38\n",
       "2  Bonnell, Miss. Elizabeth   45  female        7        52"
      ]
     },
     "execution_count": 68,
     "metadata": {},
     "output_type": "execute_result"
    }
   ],
   "source": [
    "df[\"new_col2\"] = df[\"Age\"] + df[\"new_col\"]\n",
    "df"
   ]
  },
  {
   "cell_type": "markdown",
   "metadata": {},
   "source": [
    "Access a specific location by column name and index"
   ]
  },
  {
   "cell_type": "code",
   "execution_count": 25,
   "metadata": {},
   "outputs": [
    {
     "data": {
      "text/plain": [
       "'Bonnell, Miss. Elizabeth'"
      ]
     },
     "execution_count": 25,
     "metadata": {},
     "output_type": "execute_result"
    }
   ],
   "source": [
    "df[\"Name\"][2]"
   ]
  },
  {
   "cell_type": "markdown",
   "metadata": {},
   "source": [
    "Sorting by an a specific column"
   ]
  },
  {
   "cell_type": "code",
   "execution_count": 69,
   "metadata": {},
   "outputs": [
    {
     "data": {
      "text/html": [
       "<div>\n",
       "<style scoped>\n",
       "    .dataframe tbody tr th:only-of-type {\n",
       "        vertical-align: middle;\n",
       "    }\n",
       "\n",
       "    .dataframe tbody tr th {\n",
       "        vertical-align: top;\n",
       "    }\n",
       "\n",
       "    .dataframe thead th {\n",
       "        text-align: right;\n",
       "    }\n",
       "</style>\n",
       "<table border=\"1\" class=\"dataframe\">\n",
       "  <thead>\n",
       "    <tr style=\"text-align: right;\">\n",
       "      <th></th>\n",
       "      <th>Name</th>\n",
       "      <th>Age</th>\n",
       "      <th>Sex</th>\n",
       "      <th>new_col</th>\n",
       "      <th>new_col2</th>\n",
       "    </tr>\n",
       "  </thead>\n",
       "  <tbody>\n",
       "    <tr>\n",
       "      <th>1</th>\n",
       "      <td>Allen, Mr. William Henry</td>\n",
       "      <td>32</td>\n",
       "      <td>male</td>\n",
       "      <td>6</td>\n",
       "      <td>38</td>\n",
       "    </tr>\n",
       "    <tr>\n",
       "      <th>2</th>\n",
       "      <td>Bonnell, Miss. Elizabeth</td>\n",
       "      <td>45</td>\n",
       "      <td>female</td>\n",
       "      <td>7</td>\n",
       "      <td>52</td>\n",
       "    </tr>\n",
       "    <tr>\n",
       "      <th>0</th>\n",
       "      <td>Braund, Mr. Owen Harris</td>\n",
       "      <td>58</td>\n",
       "      <td>male</td>\n",
       "      <td>5</td>\n",
       "      <td>63</td>\n",
       "    </tr>\n",
       "  </tbody>\n",
       "</table>\n",
       "</div>"
      ],
      "text/plain": [
       "                       Name  Age     Sex  new_col  new_col2\n",
       "1  Allen, Mr. William Henry   32    male        6        38\n",
       "2  Bonnell, Miss. Elizabeth   45  female        7        52\n",
       "0   Braund, Mr. Owen Harris   58    male        5        63"
      ]
     },
     "execution_count": 69,
     "metadata": {},
     "output_type": "execute_result"
    }
   ],
   "source": [
    "df = df.sort_values(by =\"Age\")\n",
    "df"
   ]
  },
  {
   "cell_type": "code",
   "execution_count": 70,
   "metadata": {},
   "outputs": [
    {
     "data": {
      "text/html": [
       "<div>\n",
       "<style scoped>\n",
       "    .dataframe tbody tr th:only-of-type {\n",
       "        vertical-align: middle;\n",
       "    }\n",
       "\n",
       "    .dataframe tbody tr th {\n",
       "        vertical-align: top;\n",
       "    }\n",
       "\n",
       "    .dataframe thead th {\n",
       "        text-align: right;\n",
       "    }\n",
       "</style>\n",
       "<table border=\"1\" class=\"dataframe\">\n",
       "  <thead>\n",
       "    <tr style=\"text-align: right;\">\n",
       "      <th></th>\n",
       "      <th>Name</th>\n",
       "      <th>Age</th>\n",
       "      <th>Sex</th>\n",
       "      <th>new_col</th>\n",
       "      <th>new_col2</th>\n",
       "    </tr>\n",
       "  </thead>\n",
       "  <tbody>\n",
       "    <tr>\n",
       "      <th>2</th>\n",
       "      <td>Bonnell, Miss. Elizabeth</td>\n",
       "      <td>45</td>\n",
       "      <td>female</td>\n",
       "      <td>7</td>\n",
       "      <td>52</td>\n",
       "    </tr>\n",
       "    <tr>\n",
       "      <th>1</th>\n",
       "      <td>Allen, Mr. William Henry</td>\n",
       "      <td>32</td>\n",
       "      <td>male</td>\n",
       "      <td>6</td>\n",
       "      <td>38</td>\n",
       "    </tr>\n",
       "    <tr>\n",
       "      <th>0</th>\n",
       "      <td>Braund, Mr. Owen Harris</td>\n",
       "      <td>58</td>\n",
       "      <td>male</td>\n",
       "      <td>5</td>\n",
       "      <td>63</td>\n",
       "    </tr>\n",
       "  </tbody>\n",
       "</table>\n",
       "</div>"
      ],
      "text/plain": [
       "                       Name  Age     Sex  new_col  new_col2\n",
       "2  Bonnell, Miss. Elizabeth   45  female        7        52\n",
       "1  Allen, Mr. William Henry   32    male        6        38\n",
       "0   Braund, Mr. Owen Harris   58    male        5        63"
      ]
     },
     "execution_count": 70,
     "metadata": {},
     "output_type": "execute_result"
    }
   ],
   "source": [
    "df = df.sort_values(by =[\"Sex\", \"Age\"])\n",
    "df"
   ]
  },
  {
   "cell_type": "markdown",
   "metadata": {},
   "source": [
    "Delete column or row"
   ]
  },
  {
   "cell_type": "code",
   "execution_count": 71,
   "metadata": {},
   "outputs": [
    {
     "data": {
      "text/html": [
       "<div>\n",
       "<style scoped>\n",
       "    .dataframe tbody tr th:only-of-type {\n",
       "        vertical-align: middle;\n",
       "    }\n",
       "\n",
       "    .dataframe tbody tr th {\n",
       "        vertical-align: top;\n",
       "    }\n",
       "\n",
       "    .dataframe thead th {\n",
       "        text-align: right;\n",
       "    }\n",
       "</style>\n",
       "<table border=\"1\" class=\"dataframe\">\n",
       "  <thead>\n",
       "    <tr style=\"text-align: right;\">\n",
       "      <th></th>\n",
       "      <th>Name</th>\n",
       "      <th>Age</th>\n",
       "      <th>Sex</th>\n",
       "      <th>new_col2</th>\n",
       "    </tr>\n",
       "  </thead>\n",
       "  <tbody>\n",
       "    <tr>\n",
       "      <th>2</th>\n",
       "      <td>Bonnell, Miss. Elizabeth</td>\n",
       "      <td>45</td>\n",
       "      <td>female</td>\n",
       "      <td>52</td>\n",
       "    </tr>\n",
       "    <tr>\n",
       "      <th>1</th>\n",
       "      <td>Allen, Mr. William Henry</td>\n",
       "      <td>32</td>\n",
       "      <td>male</td>\n",
       "      <td>38</td>\n",
       "    </tr>\n",
       "    <tr>\n",
       "      <th>0</th>\n",
       "      <td>Braund, Mr. Owen Harris</td>\n",
       "      <td>58</td>\n",
       "      <td>male</td>\n",
       "      <td>63</td>\n",
       "    </tr>\n",
       "  </tbody>\n",
       "</table>\n",
       "</div>"
      ],
      "text/plain": [
       "                       Name  Age     Sex  new_col2\n",
       "2  Bonnell, Miss. Elizabeth   45  female        52\n",
       "1  Allen, Mr. William Henry   32    male        38\n",
       "0   Braund, Mr. Owen Harris   58    male        63"
      ]
     },
     "execution_count": 71,
     "metadata": {},
     "output_type": "execute_result"
    }
   ],
   "source": [
    "df.drop(\"new_col\", axis = 1)"
   ]
  },
  {
   "cell_type": "markdown",
   "metadata": {},
   "source": [
    "Note that a placement needs to be made in order for it to be saved"
   ]
  },
  {
   "cell_type": "code",
   "execution_count": 72,
   "metadata": {},
   "outputs": [
    {
     "data": {
      "text/html": [
       "<div>\n",
       "<style scoped>\n",
       "    .dataframe tbody tr th:only-of-type {\n",
       "        vertical-align: middle;\n",
       "    }\n",
       "\n",
       "    .dataframe tbody tr th {\n",
       "        vertical-align: top;\n",
       "    }\n",
       "\n",
       "    .dataframe thead th {\n",
       "        text-align: right;\n",
       "    }\n",
       "</style>\n",
       "<table border=\"1\" class=\"dataframe\">\n",
       "  <thead>\n",
       "    <tr style=\"text-align: right;\">\n",
       "      <th></th>\n",
       "      <th>Name</th>\n",
       "      <th>Age</th>\n",
       "      <th>Sex</th>\n",
       "      <th>new_col</th>\n",
       "      <th>new_col2</th>\n",
       "    </tr>\n",
       "  </thead>\n",
       "  <tbody>\n",
       "    <tr>\n",
       "      <th>2</th>\n",
       "      <td>Bonnell, Miss. Elizabeth</td>\n",
       "      <td>45</td>\n",
       "      <td>female</td>\n",
       "      <td>7</td>\n",
       "      <td>52</td>\n",
       "    </tr>\n",
       "    <tr>\n",
       "      <th>1</th>\n",
       "      <td>Allen, Mr. William Henry</td>\n",
       "      <td>32</td>\n",
       "      <td>male</td>\n",
       "      <td>6</td>\n",
       "      <td>38</td>\n",
       "    </tr>\n",
       "    <tr>\n",
       "      <th>0</th>\n",
       "      <td>Braund, Mr. Owen Harris</td>\n",
       "      <td>58</td>\n",
       "      <td>male</td>\n",
       "      <td>5</td>\n",
       "      <td>63</td>\n",
       "    </tr>\n",
       "  </tbody>\n",
       "</table>\n",
       "</div>"
      ],
      "text/plain": [
       "                       Name  Age     Sex  new_col  new_col2\n",
       "2  Bonnell, Miss. Elizabeth   45  female        7        52\n",
       "1  Allen, Mr. William Henry   32    male        6        38\n",
       "0   Braund, Mr. Owen Harris   58    male        5        63"
      ]
     },
     "execution_count": 72,
     "metadata": {},
     "output_type": "execute_result"
    }
   ],
   "source": [
    "df"
   ]
  },
  {
   "cell_type": "code",
   "execution_count": 73,
   "metadata": {},
   "outputs": [
    {
     "data": {
      "text/html": [
       "<div>\n",
       "<style scoped>\n",
       "    .dataframe tbody tr th:only-of-type {\n",
       "        vertical-align: middle;\n",
       "    }\n",
       "\n",
       "    .dataframe tbody tr th {\n",
       "        vertical-align: top;\n",
       "    }\n",
       "\n",
       "    .dataframe thead th {\n",
       "        text-align: right;\n",
       "    }\n",
       "</style>\n",
       "<table border=\"1\" class=\"dataframe\">\n",
       "  <thead>\n",
       "    <tr style=\"text-align: right;\">\n",
       "      <th></th>\n",
       "      <th>Name</th>\n",
       "      <th>Age</th>\n",
       "      <th>Sex</th>\n",
       "      <th>new_col</th>\n",
       "      <th>new_col2</th>\n",
       "    </tr>\n",
       "  </thead>\n",
       "  <tbody>\n",
       "    <tr>\n",
       "      <th>2</th>\n",
       "      <td>Bonnell, Miss. Elizabeth</td>\n",
       "      <td>45</td>\n",
       "      <td>female</td>\n",
       "      <td>7</td>\n",
       "      <td>52</td>\n",
       "    </tr>\n",
       "    <tr>\n",
       "      <th>1</th>\n",
       "      <td>Allen, Mr. William Henry</td>\n",
       "      <td>32</td>\n",
       "      <td>male</td>\n",
       "      <td>6</td>\n",
       "      <td>38</td>\n",
       "    </tr>\n",
       "  </tbody>\n",
       "</table>\n",
       "</div>"
      ],
      "text/plain": [
       "                       Name  Age     Sex  new_col  new_col2\n",
       "2  Bonnell, Miss. Elizabeth   45  female        7        52\n",
       "1  Allen, Mr. William Henry   32    male        6        38"
      ]
     },
     "execution_count": 73,
     "metadata": {},
     "output_type": "execute_result"
    }
   ],
   "source": [
    "df = df.drop(0)\n",
    "df"
   ]
  },
  {
   "cell_type": "markdown",
   "metadata": {},
   "source": [
    "#### Apply aggregation function on columns"
   ]
  },
  {
   "cell_type": "code",
   "execution_count": 74,
   "metadata": {},
   "outputs": [
    {
     "data": {
      "text/plain": [
       "45"
      ]
     },
     "execution_count": 74,
     "metadata": {},
     "output_type": "execute_result"
    }
   ],
   "source": [
    "df[\"Age\"].max()"
   ]
  },
  {
   "cell_type": "code",
   "execution_count": null,
   "metadata": {},
   "outputs": [],
   "source": []
  }
 ],
 "metadata": {
  "kernelspec": {
   "display_name": "Python 3 (ipykernel)",
   "language": "python",
   "name": "python3"
  },
  "language_info": {
   "codemirror_mode": {
    "name": "ipython",
    "version": 3
   },
   "file_extension": ".py",
   "mimetype": "text/x-python",
   "name": "python",
   "nbconvert_exporter": "python",
   "pygments_lexer": "ipython3",
   "version": "3.8.3"
  }
 },
 "nbformat": 4,
 "nbformat_minor": 4
}
